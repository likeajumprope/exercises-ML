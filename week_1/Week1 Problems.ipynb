{
 "cells": [
  {
   "cell_type": "markdown",
   "metadata": {},
   "source": [
    "# Weekly Tutorial Problems: Week 1\n",
    "Jérôme Dockès, Nikhil Bhagwat, Jacob Sanz-Robinson.\n",
    "\n",
    "Welcome to the first set of tutorial problems of the ABCD ReproNim Machine Learning course! They are largely based on Jérôme and Nikhil's exercises for the MAIN educational course: https://github.com/neurodatascience/main-2021-ml-parts-1-2\n",
    "\n",
    "Let's get started."
   ]
  },
  {
   "cell_type": "markdown",
   "metadata": {},
   "source": [
    "# Lecture 1: Core Concepts in Machine Learning 1"
   ]
  },
  {
   "cell_type": "markdown",
   "metadata": {},
   "source": [
    "## Question 1: Fitting and Prediction"
   ]
  },
  {
   "cell_type": "markdown",
   "metadata": {},
   "source": [
    "We have a chunk of code below. It imports the necessary libraries, generates some random data, and creates an instance of a linear least squares model with l2 (ridge) regularization. It fits the model to the data, obtains predictions, and calculates the Mean Squared Error of the predictions that were made.\n",
    "\n",
    "**Your task:**\n",
    "* The code runs, but there is a methodological issue in the way we are fitting data. What is this issue in the code below?"
   ]
  },
  {
   "cell_type": "code",
   "execution_count": 2,
   "metadata": {},
   "outputs": [
    {
     "name": "stdout",
     "output_type": "stream",
     "text": [
      "\n",
      "Mean Squared Error: 4.517296683845795e-18\n",
      "MSE is 0 up to machine precision: True\n"
     ]
    }
   ],
   "source": [
    "import numpy as np\n",
    "from sklearn.datasets import make_regression\n",
    "from sklearn.linear_model import Ridge\n",
    "from sklearn.metrics import mean_squared_error\n",
    "\n",
    "X, y = make_regression(n_samples=80, n_features=600, noise=10, random_state=0) #Generates a random linear combination of random features, with noise.\n",
    "\n",
    "model = Ridge(alpha=1e-8)\n",
    "model.fit(X, y)\n",
    "predictions = model.predict(X)\n",
    "mse = mean_squared_error(y, predictions)\n",
    "\n",
    "print(f\"\\nMean Squared Error: {mse}\")\n",
    "print(\"MSE is 0 up to machine precision:\", np.allclose(mse, 0))"
   ]
  },
  {
   "cell_type": "markdown",
   "metadata": {},
   "source": [
    "Now let's compare training and testing performance. We generate some new data, and split it into a train and test set.\n",
    "\n",
    "**Your task:**\n",
    "* Fit the model on training data only, get predictions for test data, and compute prediction error. Is it a much larger than error on the training data?"
   ]
  },
  {
   "cell_type": "code",
   "execution_count": 9,
   "metadata": {},
   "outputs": [
    {
     "name": "stdout",
     "output_type": "stream",
     "text": [
      "\n",
      "Mean Squared Error: 25420.842988621494\n",
      "MSE is 0 up to machine precision: False\n"
     ]
    }
   ],
   "source": [
    "X, y = make_regression(n_samples=160, n_features=600, noise=10, random_state=0)\n",
    "X_train, X_test = X[:80], X[80:]\n",
    "y_train, y_test = y[:80], y[80:]\n",
    "\n",
    "#Your code here\n",
    "\n",
    "model = Ridge(alpha=1e-8) # alpha was too small\n",
    "model.fit(X_train, y_train)\n",
    "predictions = model.predict(X_test)\n",
    "mse = mean_squared_error(y_test, predictions)\n",
    "\n",
    "print(f\"\\nMean Squared Error: {mse}\")\n",
    "print(\"MSE is 0 up to machine precision:\", np.allclose(mse, 0))\n"
   ]
  },
  {
   "cell_type": "markdown",
   "metadata": {},
   "source": [
    "## Question 2: Cross-Validation"
   ]
  },
  {
   "cell_type": "markdown",
   "metadata": {},
   "source": [
    "As in the previous question, we import the libraries we need, generate some random data, and create an instance of a linear least squares model with l2 regularization."
   ]
  },
  {
   "cell_type": "code",
   "execution_count": 15,
   "metadata": {},
   "outputs": [],
   "source": [
    "from sklearn.datasets import make_regression\n",
    "from sklearn import model_selection\n",
    "from sklearn.linear_model import Ridge\n",
    "from sklearn.linear_model import RidgeCV\n",
    "\n",
    "X, y = make_regression(noise=10) #Generates a random linear combination of random features, with noise.\n"
   ]
  },
  {
   "cell_type": "markdown",
   "metadata": {},
   "source": [
    "**Your task (should be ~2 lines of code):**\n",
    "* Using an appropriate function from scikit-learn, compute cross-validation scores for a ridge regression on this dataset.\n",
    "* What cross-validation strategy are you using? What do the scores represent -- what performance metric is used?\n",
    "* What is a good choice for k?\n",
    "* Once you are satisfied with the scores, fit the model to the data."
   ]
  },
  {
   "cell_type": "code",
   "execution_count": 20,
   "metadata": {},
   "outputs": [
    {
     "name": "stdout",
     "output_type": "stream",
     "text": [
      "0.07685940254152152\n"
     ]
    }
   ],
   "source": [
    "model = RidgeCV(alphas=[1e-3, 1e-2, 1e-1, 1], cv=10)\n",
    "model.fit(X, y)\n",
    "predictions = model.predict(X)\n",
    "mse = mean_squared_error(y, predictions)\n",
    "print(mse)"
   ]
  },
  {
   "cell_type": "markdown",
   "metadata": {},
   "source": [
    "## Question 3: Hyperparameters and Grid Search"
   ]
  },
  {
   "cell_type": "markdown",
   "metadata": {},
   "source": [
    "The chunk of code below imports the necessary datasets, generates some random data for us to classify.\n",
    "\n",
    "**Your task:**\n",
    "* Modify the \"model\" variable. It should use the GridSearchCV to run a Logistic Regression, doing a grid search over at least 3 different values of C (I suggest they each vary by an order of magnitude), and \"l1\" and \"l2\" penalty types."
   ]
  },
  {
   "cell_type": "code",
   "execution_count": 31,
   "metadata": {},
   "outputs": [
    {
     "name": "stdout",
     "output_type": "stream",
     "text": [
      "{'fit_time': array([0.10168505, 0.0901289 , 0.07944107, 0.14998007, 0.28583193]), 'score_time': array([0.00025582, 0.00020623, 0.00042486, 0.00053692, 0.00043106]), 'test_score': array([0.9 , 0.85, 0.8 , 0.95, 0.85])}\n"
     ]
    },
    {
     "name": "stderr",
     "output_type": "stream",
     "text": [
      "/Library/Frameworks/Python.framework/Versions/3.10/lib/python3.10/site-packages/sklearn/svm/_base.py:1206: ConvergenceWarning: Liblinear failed to converge, increase the number of iterations.\n",
      "  warnings.warn(\n"
     ]
    }
   ],
   "source": [
    "import numpy as np\n",
    "from sklearn.datasets import make_classification\n",
    "from sklearn.linear_model import LogisticRegression\n",
    "from sklearn.model_selection import cross_validate, GridSearchCV\n",
    "from matplotlib import pyplot as plt\n",
    "\n",
    "X, y = make_classification() #Generate random data\n",
    "parameters = {'C':[0.001, 0.1,1, 10, 100], 'penalty': ['l1', 'l2']}\n",
    "model = GridSearchCV(LogisticRegression(solver='liblinear'), parameters)#Your line of code goes here!\n",
    "scores = cross_validate(model, X, y)\n",
    "print(scores)"
   ]
  },
  {
   "cell_type": "markdown",
   "metadata": {},
   "source": [
    "## Question 4: Prediction and Performance Scores"
   ]
  },
  {
   "cell_type": "markdown",
   "metadata": {},
   "source": [
    "In this question we're going to build a model that can recognize handwritten digits.\n",
    "\n",
    "Firstly, below are all the libraries we are going to use for this question. I suggest you Google them, or have a glance at their documentation if you don't already recognize them! Popular libraries often have very informative documentation, complete with examples.\n",
    "For example: https://scikit-learn.org/stable/user_guide.html"
   ]
  },
  {
   "cell_type": "code",
   "execution_count": 59,
   "metadata": {},
   "outputs": [],
   "source": [
    "from sklearn.datasets import fetch_openml\n",
    "import matplotlib as mpl\n",
    "import matplotlib.pyplot as plt\n",
    "from sklearn.linear_model import SGDClassifier\n",
    "from sklearn.model_selection import cross_val_score\n",
    "from sklearn.model_selection import cross_val_predict\n",
    "from sklearn.metrics import confusion_matrix\n",
    "from sklearn.metrics import precision_score, recall_score, f1_score\n",
    "import ssl"
   ]
  },
  {
   "cell_type": "markdown",
   "metadata": {},
   "source": [
    "We're going to download the dataset we'll be using. It's the MNIST dataset - a set of 70,000 images of digits handwritten by high school students. It's a commonly used benchmark for Machine Learning algorithms, and a part of many Machine Learning courses, earning it it's infamous nickname of the 'Hello World' of Machine Learning."
   ]
  },
  {
   "cell_type": "code",
   "execution_count": 60,
   "metadata": {},
   "outputs": [
    {
     "data": {
      "text/plain": [
       "dict_keys(['data', 'target', 'frame', 'categories', 'feature_names', 'target_names', 'DESCR', 'details', 'url'])"
      ]
     },
     "execution_count": 60,
     "metadata": {},
     "output_type": "execute_result"
    }
   ],
   "source": [
    "mnist = fetch_openml('mnist_784', version=1, as_frame= False) #~130MB, might take a little time to download!\n",
    "mnist.keys()"
   ]
  },
  {
   "cell_type": "markdown",
   "metadata": {},
   "source": [
    "Let's look at the data dimensions, what the first digit looks like, and what it's label is:"
   ]
  },
  {
   "cell_type": "code",
   "execution_count": 61,
   "metadata": {},
   "outputs": [
    {
     "name": "stdout",
     "output_type": "stream",
     "text": [
      "(70000, 784)\n"
     ]
    },
    {
     "data": {
      "image/png": "[encoded data removed]",
      "text/plain": [
       "<Figure size 432x288 with 1 Axes>"
      ]
     },
     "metadata": {
      "needs_background": "light"
     },
     "output_type": "display_data"
    },
    {
     "name": "stdout",
     "output_type": "stream",
     "text": [
      "5\n"
     ]
    }
   ],
   "source": [
    "X, y = mnist[\"data\"], mnist[\"target\"]\n",
    "print(X.shape) \n",
    "\n",
    "some_digit = X[0]\n",
    "some_digit_image = some_digit.reshape(28, 28)\n",
    "plt.imshow(some_digit_image, cmap = mpl.cm.binary, interpolation=\"nearest\")\n",
    "plt.axis(\"off\")\n",
    "plt.show()\n",
    "\n",
    "print(y[0])"
   ]
  },
  {
   "cell_type": "markdown",
   "metadata": {},
   "source": [
    "Now we're going to separate the data to use the first 60,000 images as our training set, and the final 10,000 for our test set.\n",
    "\n",
    "We're going to try to quickly make a binary classification model. It will be able to tell the difference between the number 5 and all the other digits. A 5-detector.\n",
    "\n",
    "Our classifier will be an instance of a SGDClassifier model. I've chosen this classifier because it can handle large datasets efficiently. The default setting we are using is a linear SVM (you will see what this is next week). It is sped up by using a variation of Gradient Descent - Stochastic Gradient Descent (deals with training instances independently, one at a time)."
   ]
  },
  {
   "cell_type": "code",
   "execution_count": 62,
   "metadata": {},
   "outputs": [],
   "source": [
    "X_train, X_test, y_train, y_test = X[:60000], X[60000:], y[:60000], y[60000:]\n",
    "y_train = y_train.astype(np.int8) #Casting labels from strings to integers\n",
    "\n",
    "#Here we are binarizing our labels. All labels that are 5 are converted to True, and the rest to False. \n",
    "y_train_5 = (y_train == 5)\n",
    "y_test_5 = (y_test == 5)\n",
    "\n",
    "sgd_clf = SGDClassifier(random_state=42) #42 is arbitrarily chosen. From documentation: \"Pass an int for reproducible output across multiple function calls\""
   ]
  },
  {
   "cell_type": "markdown",
   "metadata": {},
   "source": [
    "**Your task (should only be ~3 lines of code):**\n",
    "* Fit the sgd_clf model to the training data, and make a prediction using it. Was the prediction it made right?\n",
    "* Run cross validation using 3 folds on the model to determine it's accuracy. What accuracies are you getting for the 3 folds?"
   ]
  },
  {
   "cell_type": "code",
   "execution_count": 156,
   "metadata": {},
   "outputs": [
    {
     "data": {
      "text/plain": [
       "array([0.95035, 0.96035, 0.9604 ])"
      ]
     },
     "execution_count": 156,
     "metadata": {},
     "output_type": "execute_result"
    }
   ],
   "source": [
    "from random import seed\n",
    "from random import randint\n",
    "#sgd_clf.fit(X_train, y_train_5)\n",
    "seed(1)\n",
    "random_digit = randint(0, 783)\n",
    "random_digit\n",
    "sgd_clf.predict([X_train[random_digit]])\n",
    "cross_val_score(sgd_clf, X_train, y_train_5, cv=3, scoring=\"accuracy\")"
   ]
  },
  {
   "cell_type": "markdown",
   "metadata": {},
   "source": [
    "If you did everything right, you probably got something amazing, like 95% accuracy on all folds.\n",
    "Too good to be true? Yup...only about 10% of the images are 5s, so if you always guess that an image is NOT a 5, you will be right about 90% of the time...Not as impressive now."
   ]
  },
  {
   "cell_type": "markdown",
   "metadata": {},
   "source": [
    "**Your task (should only be ~2 lines of code):**\n",
    "\n",
    "Use the appropriate imported libraries to:\n",
    "* Obtain the predictions made on each fold of the training data.\n",
    "* Build a confusion matrix for these predictions."
   ]
  },
  {
   "cell_type": "code",
   "execution_count": 177,
   "metadata": {},
   "outputs": [
    {
     "data": {
      "text/plain": [
       "array([False, False, False, ..., False,  True, False])"
      ]
     },
     "execution_count": 177,
     "metadata": {},
     "output_type": "execute_result"
    }
   ],
   "source": [
    "y_train_predictions = cross_val_predict(sgd_clf, X_train, y_train_5, cv=3)\n",
    "confusion_matrix(y_train_5, y_train_predictions)\n",
    "\n",
    "y_test_predictions = sgd_clf.predict(X_test)\n",
    "y_test_predictions\n",
    "confusion_matrix(y_test_5, y_test_predictions)"
   ]
  },
  {
   "cell_type": "markdown",
   "metadata": {},
   "source": [
    "Remember that each row in a confusion matrix represents an actual class, while each column represents a predicted class. So the first row of this matrix considers non-5 images (the negative class). The second row considers the images of 5s (the positive class).\n",
    "\n",
    "**Your task:**\n",
    "In your confusion Matrix, how many did you get for each of\n",
    "* true negatives: \n",
    "* false positives: \n",
    "* false negatives: \n",
    "* true positives:\n",
    "\n",
    "* Use sklearn to find the precision, recall, and f1_score of these obtained predictions."
   ]
  },
  {
   "cell_type": "code",
   "execution_count": 182,
   "metadata": {},
   "outputs": [
    {
     "name": "stdout",
     "output_type": "stream",
     "text": [
      "0.8370879772350012\n",
      "0.6511713705958311\n",
      "0.7325171197343846\n"
     ]
    }
   ],
   "source": [
    "prec_score = precision_score(y_train_5, y_train_predictions)\n",
    "rec_score = recall_score(y_train_5, y_train_predictions)\n",
    "f1 = f1_score(y_train_5, y_train_predictions)\n",
    "print(prec_score)\n",
    "print(rec_score)\n",
    "print(f1)"
   ]
  },
  {
   "cell_type": "markdown",
   "metadata": {},
   "source": [
    "# Lecture 2: Core Concepts in Machine Learning 2"
   ]
  },
  {
   "cell_type": "markdown",
   "metadata": {},
   "source": [
    "## Question 1: Dataset Transformation\n",
    "**Your task:**\n",
    "Use an sklearn function seen in the recorded lectures to modify the variable X_scaled. X_scaled should standardize the feature variable X by removing the mean and scaling to unit variance."
   ]
  },
  {
   "cell_type": "code",
   "execution_count": 186,
   "metadata": {},
   "outputs": [
    {
     "name": "stdout",
     "output_type": "stream",
     "text": [
      "X:\n",
      "[[  0   1 -10]\n",
      " [  0  -1   0]\n",
      " [  1   0  10]\n",
      " [  1   0   0]]\n",
      "\n",
      "X scaled:\n",
      "[[-1.          1.41421356 -1.41421356]\n",
      " [-1.         -1.41421356  0.        ]\n",
      " [ 1.          0.          1.41421356]\n",
      " [ 1.          0.          0.        ]]\n",
      "\n",
      "mean: [0. 0. 0.]\n",
      "std: [1. 1. 1.]\n"
     ]
    }
   ],
   "source": [
    "import numpy as np\n",
    "from sklearn.preprocessing import StandardScaler\n",
    "\n",
    "X = np.asarray([[0, 1, -10], [0, -1, 0], [1, 0, 10], [1, 0, 0]])\n",
    "print(f\"X:\\n{X}\\n\")\n",
    "\n",
    "X_scaled = StandardScaler().fit_transform(X)\n",
    "\n",
    "print(f\"X scaled:\\n{X_scaled}\\n\")\n",
    "print(f\"mean: {X_scaled.mean(axis=0)}\\nstd: {X_scaled.std(axis=0)}\")"
   ]
  },
  {
   "cell_type": "markdown",
   "metadata": {},
   "source": [
    "## Question 2: Feature Selection"
   ]
  },
  {
   "cell_type": "markdown",
   "metadata": {},
   "source": [
    "As in the previous questions, we import relevant libraries and generate random data for regression. We then use the SelectKBest function from sklearn to perform feature selection (select features according to the k highest scores using f_regression - a linear model for testing the effect of a regressor), and perform cross validation using the Ridge linear model.\n",
    "\n",
    "**Your task:**\n",
    "What is the methodological issue with the chunk of code?"
   ]
  },
  {
   "cell_type": "code",
   "execution_count": 191,
   "metadata": {},
   "outputs": [
    {
     "name": "stdout",
     "output_type": "stream",
     "text": [
      "feature selection in 'preprocessing': [0.81169757 0.63046326 0.54143034 0.72676923 0.8752332 ]\n"
     ]
    },
    {
     "data": {
      "text/plain": [
       "array([[-4.86285398e-01, -1.01741511e+00,  2.39093389e+00,\n",
       "         6.56074855e-01, -5.14291638e-03, -1.07065313e+00,\n",
       "        -8.34071834e-01,  4.90508705e-01, -1.04731258e+00,\n",
       "         4.04362488e-01],\n",
       "       [-4.88616707e-01,  1.74417642e-01,  1.48794215e+00,\n",
       "        -1.45400699e+00, -7.91312462e-01, -7.03575346e-01,\n",
       "        -3.96352131e-01,  7.83364389e-01, -4.43388255e-01,\n",
       "         8.40540542e-01],\n",
       "       [ 1.86503252e+00,  1.12647246e-01, -1.80392424e+00,\n",
       "         9.77140876e-01,  8.55592136e-01, -1.58456063e-01,\n",
       "        -8.67622315e-01,  3.41727905e-02, -1.03868680e+00,\n",
       "        -5.95789758e-01],\n",
       "       [ 2.33170994e+00,  1.43147168e+00, -1.77810394e-01,\n",
       "         2.28108813e-01, -5.35201799e-01, -1.27888939e+00,\n",
       "         8.78956167e-01, -4.37168902e-01,  9.72262333e-01,\n",
       "        -1.08502512e+00],\n",
       "       [ 1.21814973e+00, -2.60357693e+00, -1.66014970e-01,\n",
       "         1.75086156e+00,  9.61774654e-01,  4.17851641e-01,\n",
       "         1.16062249e+00, -8.99499419e-01, -7.65064901e-01,\n",
       "         2.05149809e-01],\n",
       "       [-1.18509283e+00, -5.11603791e-01,  7.41342658e-01,\n",
       "         3.20985985e-01, -2.35531596e+00,  5.47512392e-01,\n",
       "        -1.02245995e+00,  1.57056556e+00,  8.79471773e-01,\n",
       "        -3.82652320e-02],\n",
       "       [-1.73304307e+00, -1.21852424e+00, -6.97796195e-02,\n",
       "         5.69592164e-01,  7.61378021e-01, -8.53023661e-01,\n",
       "         2.74604244e+00,  5.86980141e-01,  6.50142727e-02,\n",
       "         5.10474806e-01],\n",
       "       [-1.35454068e-02,  3.78557025e-01,  1.24614041e+00,\n",
       "        -6.67184319e-01, -2.22617236e-01, -4.27753095e-01,\n",
       "        -8.95001173e-01,  9.03078485e-01,  2.15025320e+00,\n",
       "        -7.30799276e-01],\n",
       "       [-1.85864948e-01, -1.38015420e+00,  1.21918635e-02,\n",
       "         2.33188787e+00, -3.97105505e-01, -3.21595159e-01,\n",
       "         4.53538820e-01,  1.25837007e+00, -7.41997345e-01,\n",
       "         1.93055629e-04],\n",
       "       [ 9.44618822e-02,  7.94073322e-03,  1.44056727e+00,\n",
       "        -3.79119196e-01,  1.07872638e+00,  1.93578639e+00,\n",
       "        -5.62542362e-01, -5.65361256e-01, -1.01259123e+00,\n",
       "         2.07890839e+00],\n",
       "       [ 1.16492848e+00, -2.85297836e-01, -3.41887065e-01,\n",
       "         2.34780559e+00,  1.04979158e+00,  6.02350741e-01,\n",
       "         1.57077878e+00,  2.80458284e-01, -1.17107537e+00,\n",
       "        -1.01637433e+00],\n",
       "       [-1.59037981e+00,  8.46797846e-01, -1.82690042e-01,\n",
       "         9.33912413e-01,  8.07068031e-01,  1.47947448e-01,\n",
       "        -4.57778155e-02,  2.71487785e-01, -7.08029264e-01,\n",
       "         6.41596945e-01],\n",
       "       [-5.27118817e-01, -1.86769667e-01, -8.09110009e-01,\n",
       "        -6.37370360e-01, -6.51957669e-01,  1.28940021e+00,\n",
       "        -4.31861631e-01,  1.83120626e-01,  5.51262973e-01,\n",
       "        -1.00225394e-01],\n",
       "       [ 6.51385845e-01,  3.25234708e-01,  5.45792000e-01,\n",
       "         1.72630677e+00,  1.48218000e-01, -1.21903825e+00,\n",
       "         1.80697555e+00,  2.21152640e-01, -1.36388710e+00,\n",
       "         1.26021883e+00],\n",
       "       [ 2.94031231e-01,  3.72724397e-01, -8.18801204e-01,\n",
       "        -1.18670346e+00,  8.92671486e-01,  6.53951333e-01,\n",
       "         2.54953262e-01, -7.27131831e-01,  1.27568439e+00,\n",
       "        -8.93452229e-01],\n",
       "       [ 1.97632079e+00, -3.95733857e-01, -6.00768193e-01,\n",
       "        -2.55972123e-01, -1.63578936e+00, -1.10348455e+00,\n",
       "        -2.31929267e-03, -1.43409185e+00,  9.46627537e-01,\n",
       "        -9.46473327e-01],\n",
       "       [ 9.88311299e-01,  1.20342680e+00,  1.41457116e+00,\n",
       "         1.17895450e+00, -1.22901337e-01,  3.73392973e-01,\n",
       "         1.17043955e+00, -4.40190239e-02,  8.71299508e-02,\n",
       "         6.59918361e-01],\n",
       "       [ 1.52761573e+00, -7.58042318e-01, -3.59118425e-01,\n",
       "         1.50214205e+00,  7.14385283e-01, -6.90469094e-01,\n",
       "         1.31107419e+00, -9.79223985e-01, -3.07322188e-01,\n",
       "        -1.24909323e+00],\n",
       "       [-1.03644553e+00,  2.06921094e+00, -7.79976651e-01,\n",
       "        -8.68183984e-01, -4.85187071e-01,  5.06230846e-01,\n",
       "        -1.23338378e+00, -3.05091138e-01,  7.35201949e-02,\n",
       "         2.78955012e-01],\n",
       "       [ 1.90774859e-02,  4.59495738e-02, -1.14092708e+00,\n",
       "        -1.16351477e+00, -2.28674348e-01,  5.38698822e-02,\n",
       "         1.24363846e+00, -7.94158027e-01, -2.44423772e-01,\n",
       "         1.53096738e+00],\n",
       "       [-1.33847361e+00, -3.84580011e-03, -4.15967317e-01,\n",
       "         1.93988049e+00,  1.18883381e+00,  8.37583126e-01,\n",
       "        -1.49912580e+00,  1.53129602e+00,  3.62855722e-01,\n",
       "         1.55428506e+00],\n",
       "       [-2.04659607e-01, -2.70085878e-01, -1.64684294e-01,\n",
       "        -2.43971018e+00, -4.74725651e-01, -9.10687572e-02,\n",
       "         1.67320774e+00, -3.83119096e-01, -7.25753614e-01,\n",
       "        -9.60324746e-01],\n",
       "       [-7.18795040e-01, -7.75499531e-01,  7.36622545e-01,\n",
       "         1.12565333e+00, -1.24349781e+00,  2.26971309e+00,\n",
       "        -2.47093616e-01, -6.38702677e-01,  9.40372635e-02,\n",
       "         4.49610831e-01],\n",
       "       [ 2.22941168e-01,  3.49855290e-01, -4.71038484e-01,\n",
       "        -4.22721010e-01,  8.40985237e-01, -2.19915617e-01,\n",
       "         1.18791473e-01,  3.92692642e-01, -4.71334959e-01,\n",
       "        -1.13689624e-03],\n",
       "       [-1.00676396e+00,  1.85851692e+00, -7.85643416e-01,\n",
       "         1.28899301e-01, -5.31219622e-01,  1.75432016e-01,\n",
       "        -1.55942592e+00,  7.87417231e-01, -1.69390036e+00,\n",
       "         1.06029199e+00],\n",
       "       [-6.49477671e-01,  2.15659482e+00, -1.63401669e+00,\n",
       "        -4.57045588e-01, -3.95458078e-01,  2.64882457e-01,\n",
       "         1.54161386e+00, -1.38983813e+00, -2.45417506e+00,\n",
       "        -5.80352897e-01],\n",
       "       [ 1.33753188e+00, -7.73870465e-01,  6.53758780e-01,\n",
       "        -5.31076043e-01,  1.76662580e-01,  9.08714006e-02,\n",
       "         2.76392830e-01, -1.90093886e-01, -8.63291373e-01,\n",
       "        -1.00181313e-01],\n",
       "       [-8.09137628e-01,  1.48394193e+00,  5.99706280e-01,\n",
       "        -7.12429723e-01,  1.62340525e+00, -9.17585661e-01,\n",
       "         6.14851117e-01, -5.79135706e-01,  4.82056986e-01,\n",
       "        -4.62579867e-01],\n",
       "       [-3.87254246e-02, -1.02992972e+00,  3.63269588e-01,\n",
       "         1.50646669e+00, -2.93483377e-01, -8.30434202e-01,\n",
       "         2.00270397e-01,  9.89244687e-01, -1.47994746e+00,\n",
       "        -5.28384021e-01],\n",
       "       [ 4.20597955e-02, -7.58203581e-01, -1.79065403e+00,\n",
       "         7.06123801e-01, -6.15659107e-02, -1.57686092e+00,\n",
       "         2.54985687e+00, -7.19323394e-01,  6.03480321e-01,\n",
       "         1.46037325e+00],\n",
       "       [ 2.74557409e+00,  1.04186143e+00, -1.59868373e-01,\n",
       "        -5.06621833e-01,  3.64773853e-01, -4.83776098e-01,\n",
       "        -3.79256533e-01, -1.46830787e+00, -1.25248575e+00,\n",
       "        -1.19077512e+00],\n",
       "       [-7.24363090e-02, -2.82783080e-02, -8.46719012e-01,\n",
       "        -5.29710070e-01, -6.62999706e-02,  1.21932469e+00,\n",
       "         4.18921610e-01, -3.72769618e-01,  7.52315770e-01,\n",
       "        -7.97819846e-01],\n",
       "       [-1.77854424e-01,  4.93619557e-01,  3.70642344e-01,\n",
       "         9.94275227e-01,  3.45002473e-01,  4.83851918e-01,\n",
       "         5.15893692e-02,  1.62000198e+00, -5.62611669e-01,\n",
       "        -4.88012807e-01],\n",
       "       [-5.83035492e-01,  1.58270761e-01,  3.62282812e-01,\n",
       "         3.47557962e-01,  1.11092178e+00, -4.82858159e-01,\n",
       "         1.90756701e+00, -1.16272264e+00, -1.31730183e+00,\n",
       "        -1.78001837e-01],\n",
       "       [-1.04426398e+00, -3.96552005e-01, -5.84008051e-01,\n",
       "        -1.35528979e+00,  9.01162306e-04, -4.38194862e-01,\n",
       "         8.58367581e-01,  1.25520576e+00, -7.64937462e-01,\n",
       "         1.57519508e+00],\n",
       "       [-9.72796712e-01, -6.26770093e-01, -2.11749366e+00,\n",
       "         1.63183335e+00,  1.04651622e+00,  4.19381274e-01,\n",
       "        -4.97012342e-01, -9.69352282e-01,  3.96471529e-01,\n",
       "        -8.63074961e-01],\n",
       "       [ 7.05913100e-01,  2.13865603e-01,  9.38758901e-01,\n",
       "        -1.70695814e-01, -2.15245428e+00,  8.34449126e-01,\n",
       "        -1.79716354e+00, -9.48132694e-01,  1.16515882e-01,\n",
       "        -4.21010233e-01],\n",
       "       [ 1.08493721e-01,  2.91161081e-01, -4.93176308e-01,\n",
       "        -3.00068226e-01, -1.73558195e+00, -1.69108235e+00,\n",
       "        -6.20600889e-01, -8.64901758e-01, -6.91171059e-01,\n",
       "        -2.42309169e+00],\n",
       "       [ 1.54284527e+00,  1.11121774e+00,  3.98545371e-01,\n",
       "         1.14900309e+00, -3.33665120e-01,  3.25213334e-01,\n",
       "        -5.02863230e-01,  2.79437867e-01,  7.86396837e-01,\n",
       "        -1.20155757e+00],\n",
       "       [ 9.05945915e-01,  4.41546333e-01,  9.89377233e-01,\n",
       "        -8.95728785e-01, -1.25739660e-02, -1.10474636e+00,\n",
       "        -8.96828156e-01, -1.32734790e-01,  2.70343707e-02,\n",
       "        -8.49397162e-01],\n",
       "       [-8.74227145e-01,  7.85350716e-01, -2.02791608e+00,\n",
       "        -1.50046500e+00, -2.30443589e+00,  6.88299133e-01,\n",
       "        -5.45960228e-01,  1.68131423e-01,  3.96569540e-01,\n",
       "         1.57254546e+00],\n",
       "       [-1.41560508e+00,  8.50766724e-01,  1.43525841e+00,\n",
       "        -6.10717760e-01,  7.50411772e-01,  1.13522598e+00,\n",
       "        -3.99927911e-02,  4.14697158e-01,  5.81878471e-01,\n",
       "         7.53104503e-01],\n",
       "       [-1.05882229e+00, -8.57520664e-01, -1.30324680e-01,\n",
       "         1.07364533e+00, -4.58008207e-01, -1.29453519e+00,\n",
       "         5.12232962e-01, -1.08802653e+00, -1.08995304e-01,\n",
       "        -1.66112585e+00],\n",
       "       [-6.22363415e-01,  1.08926492e+00,  1.93166849e+00,\n",
       "         3.62726198e-01,  6.56549246e-01, -1.32454183e+00,\n",
       "        -1.34588346e+00, -1.42078782e+00, -8.78326843e-01,\n",
       "        -6.33582474e-01],\n",
       "       [-9.90371702e-01,  1.05426386e+00, -6.13436372e-01,\n",
       "        -7.44756858e-01, -1.65798939e+00,  2.92893573e+00,\n",
       "        -9.43235887e-01, -7.28227650e-01,  8.53354723e-01,\n",
       "        -2.79883554e-01],\n",
       "       [ 1.01650242e+00,  9.87671879e-01, -1.49785602e+00,\n",
       "        -8.60619513e-01, -2.86350040e-01,  7.39833863e-01,\n",
       "         1.92883631e+00, -8.58739469e-02, -7.20983782e-01,\n",
       "         1.56067530e+00],\n",
       "       [-8.68312030e-01,  2.43933725e+00, -7.34271136e-01,\n",
       "         2.23202855e+00, -5.16216625e-01, -4.01299144e-01,\n",
       "         4.77663772e-01, -6.79165929e-01,  3.57797535e-01,\n",
       "        -1.97994278e+00],\n",
       "       [ 3.88797949e-01, -2.24428054e-02,  1.50446599e+00,\n",
       "         4.17952906e-01,  1.39971978e+00,  8.15560111e-01,\n",
       "        -6.04392741e-01, -8.68944977e-01,  1.28653637e-01,\n",
       "        -7.74758643e-01],\n",
       "       [-7.37825045e-01, -6.65846906e-01, -7.08275374e-01,\n",
       "         5.37295538e-01,  6.72391483e-01, -3.80083367e-01,\n",
       "         1.24292780e+00, -1.05363414e+00, -4.71876771e-01,\n",
       "        -6.30999377e-01],\n",
       "       [ 8.27629257e-01, -6.76523964e-01, -3.34487592e-01,\n",
       "        -4.43719070e-01, -4.31590139e-02, -5.45432195e-02,\n",
       "        -4.31718540e-01, -7.15266470e-01, -6.12406176e-01,\n",
       "        -3.91443186e-01],\n",
       "       [-4.72702866e-01, -6.13981809e-01, -2.68475204e-01,\n",
       "         3.69944853e-01,  7.73424787e-02, -8.46060753e-01,\n",
       "        -1.15071687e+00, -8.49554412e-01, -1.77632335e-01,\n",
       "         5.64813391e-01],\n",
       "       [-1.55403210e+00,  2.68954025e+00,  1.57454857e-01,\n",
       "         4.38330982e-01, -4.73430140e-01, -1.32050108e+00,\n",
       "        -3.10751482e-01, -8.00197019e-01,  3.32335723e-01,\n",
       "        -4.86667015e-01],\n",
       "       [ 1.57700039e+00,  6.02120978e-01, -2.50394732e+00,\n",
       "        -5.46069533e-01,  4.96192193e-01,  9.22981975e-01,\n",
       "         3.71101782e-01, -1.01480284e+00,  8.07892857e-01,\n",
       "         1.20481133e-01],\n",
       "       [ 4.51052232e-01, -4.72224340e-01,  5.00297093e-01,\n",
       "        -5.43409941e-01, -1.52525984e+00, -2.91995929e-02,\n",
       "        -4.44663224e+00,  8.69875255e-01, -1.01922488e+00,\n",
       "         1.23683451e+00],\n",
       "       [-9.27703085e-01, -1.01150417e+00, -1.99336282e+00,\n",
       "        -1.15229737e+00, -2.09043746e+00, -6.98331346e-02,\n",
       "         1.48487564e+00, -5.15036567e-02,  8.36023096e-01,\n",
       "         4.39912414e-01],\n",
       "       [ 2.79201697e-01, -9.69596657e-02, -9.33715076e-01,\n",
       "        -1.22158662e+00,  1.38247971e+00, -6.02825615e-01,\n",
       "        -2.21189947e+00,  3.98952279e-01, -1.93179028e-02,\n",
       "        -7.66214897e-01],\n",
       "       [ 1.05817483e+00,  9.80550126e-01,  6.31013104e-01,\n",
       "        -1.43067266e+00,  9.44942557e-01,  5.28839664e-01,\n",
       "        -2.19749263e+00, -7.93649952e-01, -1.59745570e+00,\n",
       "        -1.25079251e+00],\n",
       "       [-4.81775072e-01,  4.80366042e-01,  7.00043692e-01,\n",
       "        -8.85448852e-02, -8.40760501e-01,  3.52973280e-01,\n",
       "        -7.63650559e-01,  1.01095042e+00, -3.50149082e-01,\n",
       "         2.22507499e-01],\n",
       "       [-1.35323085e+00,  1.66610726e+00, -4.03767128e-01,\n",
       "         1.18418786e+00,  5.57719693e-01, -1.00083872e+00,\n",
       "        -9.10819759e-01, -1.00056502e+00, -1.62368364e+00,\n",
       "        -1.04982350e+00],\n",
       "       [ 1.10482408e+00,  3.82103579e-01,  1.67317388e+00,\n",
       "        -1.43086467e+00,  3.39668729e-01,  2.00812905e+00,\n",
       "         3.30808708e+00, -4.78027943e-01, -1.35963606e+00,\n",
       "         9.72263580e-02],\n",
       "       [-6.02625388e-01, -1.49048290e+00, -1.11066951e+00,\n",
       "         3.85555585e-01,  2.47670422e+00,  9.33464424e-01,\n",
       "        -2.27803351e-01,  1.87632388e+00,  4.79949206e-01,\n",
       "         1.77423104e+00],\n",
       "       [ 2.05103636e+00, -7.25273017e-01, -9.78929309e-01,\n",
       "         3.94719362e-01,  1.31563926e+00,  2.32136226e-01,\n",
       "         1.93261169e-01,  1.32309037e+00, -2.72839456e-01,\n",
       "        -6.80958336e-01],\n",
       "       [-5.40809529e-01, -3.25591575e-01, -4.51443090e-01,\n",
       "         3.59414909e-01,  1.72799656e-01,  5.01720418e-01,\n",
       "        -2.85771534e-01, -6.12049341e-01,  1.23674612e-01,\n",
       "        -1.35039146e+00],\n",
       "       [ 9.27354541e-01, -1.61377947e-01,  1.35981356e-01,\n",
       "         1.09818238e+00,  5.65830204e-01, -1.32428004e-01,\n",
       "        -1.05662905e+00, -1.00982970e+00,  6.65777821e-01,\n",
       "        -1.58411348e+00],\n",
       "       [ 1.02478232e+00, -1.17494381e+00,  7.40710883e-01,\n",
       "        -4.22929899e-01, -1.87672313e-01,  6.80223377e-01,\n",
       "        -9.76279877e-01,  1.14835736e+00,  1.24889120e+00,\n",
       "         1.13767517e+00],\n",
       "       [ 2.27586175e-01, -2.46915559e-01,  3.49110901e-01,\n",
       "         1.99770725e-01, -9.06008735e-01, -2.95017073e-01,\n",
       "        -3.30922545e-01,  1.51731377e+00, -1.00814409e-01,\n",
       "         2.22193349e+00],\n",
       "       [ 8.63948957e-01,  3.57864687e-01, -4.38804406e-01,\n",
       "        -7.95387430e-01, -1.19840184e+00,  5.21552535e-01,\n",
       "         2.97291094e-01,  8.77618948e-01,  2.51882381e+00,\n",
       "        -5.38481578e-01],\n",
       "       [-1.21978728e+00, -1.97440103e-01, -3.25734073e-01,\n",
       "         2.75046272e-01, -2.28533669e-01,  6.93781202e-01,\n",
       "         1.30570896e-03, -4.31539461e-01, -1.52348733e+00,\n",
       "        -2.21380535e-01],\n",
       "       [ 5.98712679e-01,  1.82351513e+00, -3.78128383e-01,\n",
       "         9.20595340e-01,  7.55469426e-02,  6.55767161e-01,\n",
       "        -5.24227543e-01, -4.81579891e-01, -1.33978821e+00,\n",
       "        -6.85117778e-01],\n",
       "       [-1.43987601e-01, -3.47316042e-01,  5.06536257e-01,\n",
       "         6.87934878e-02, -3.70471668e-01, -4.67786197e-01,\n",
       "        -5.97469359e-01,  9.54574294e-01,  4.47439657e-01,\n",
       "         9.74049700e-01],\n",
       "       [ 1.03922112e+00, -1.06393865e+00,  3.04327775e-02,\n",
       "         2.07397617e-01, -2.56857093e-01,  3.89906921e-01,\n",
       "        -1.13489736e+00, -4.36796600e-01, -1.58135564e+00,\n",
       "         1.46077647e+00],\n",
       "       [ 6.74950746e-01,  1.07737439e+00, -2.22894034e+00,\n",
       "         4.35139599e-02,  8.51811208e-01, -8.56673339e-01,\n",
       "         1.24572817e+00,  5.84355221e-01, -3.33389081e-01,\n",
       "        -5.76202341e-01],\n",
       "       [-1.00267818e+00,  3.90894205e-02, -1.86486895e+00,\n",
       "        -1.58079568e+00,  1.44632031e+00, -9.75390374e-01,\n",
       "        -7.81043747e-01, -9.48936437e-01,  4.31584340e-01,\n",
       "        -2.88171233e-01],\n",
       "       [-2.49178188e-01,  1.04429321e+00, -2.92203203e-01,\n",
       "        -2.24872811e+00,  7.72987908e-01,  4.04630964e-02,\n",
       "        -1.06937880e+00,  1.05056728e+00,  9.31686274e-01,\n",
       "         6.72392597e-01],\n",
       "       [ 8.15844644e-01, -2.71787374e-01, -2.88609023e+00,\n",
       "        -1.04912746e-01, -1.42085974e+00,  1.16771943e-01,\n",
       "         3.40630160e-01, -1.65189755e+00,  1.38687064e-02,\n",
       "        -6.23703465e-02],\n",
       "       [-1.35424352e-01,  8.48938021e-01, -3.96506329e-01,\n",
       "         1.05587308e+00, -1.83616602e+00,  9.15233488e-01,\n",
       "         5.43100972e-01, -1.69308074e+00, -5.78696995e-01,\n",
       "         4.65171240e-01],\n",
       "       [-6.25670788e-01,  1.17034275e+00,  3.62214919e-01,\n",
       "        -1.24620680e+00, -1.20447339e+00, -7.59440596e-01,\n",
       "        -2.21574854e-01, -5.28044757e-01,  2.78774907e+00,\n",
       "        -7.15653311e-01],\n",
       "       [-2.15065785e-01, -2.06206027e-01, -7.42814804e-01,\n",
       "        -1.12836462e-01,  1.00082186e-01, -4.65349275e-01,\n",
       "         1.21633203e-01, -1.33548556e+00,  6.39559819e-02,\n",
       "        -2.96517550e-01],\n",
       "       [-1.19861499e+00, -2.29230459e-01,  6.59648779e-01,\n",
       "        -9.86076719e-02,  4.26313004e-01,  1.94628024e-01,\n",
       "        -1.34088845e+00, -1.69596529e+00,  4.80016960e-01,\n",
       "        -9.25689453e-01],\n",
       "       [-1.99838460e+00,  7.56954360e-01, -1.60356444e-02,\n",
       "        -1.26769004e-01,  2.26041093e-02,  1.40706195e+00,\n",
       "         1.20411164e-01, -1.98562808e-02, -1.44779154e+00,\n",
       "        -1.65797516e-01],\n",
       "       [ 5.37028904e-01, -3.42009261e-01,  5.12348579e-01,\n",
       "        -4.18476938e-01,  5.41190004e-01, -8.59521246e-01,\n",
       "        -6.70154679e-01, -1.49436180e-01, -1.44201581e-01,\n",
       "        -3.51729292e-02],\n",
       "       [-4.81858478e-01, -1.60582640e+00, -3.70158992e-01,\n",
       "         1.06246959e-01,  7.37132817e-01, -2.46317980e-01,\n",
       "         1.60743613e+00,  8.23700013e-01, -2.69265522e-01,\n",
       "         8.06901446e-02],\n",
       "       [ 1.40581298e+00, -2.21148754e-01,  1.53013478e+00,\n",
       "         1.00089061e+00,  1.98585425e-02,  8.85170577e-01,\n",
       "         3.39106049e-01,  5.46743152e-03, -8.70616353e-01,\n",
       "        -4.41073612e-01],\n",
       "       [-1.19841344e+00,  6.03202919e-01, -2.14391866e+00,\n",
       "        -1.01329153e+00,  9.18355196e-01,  9.68315896e-01,\n",
       "        -8.25152582e-03,  1.07513959e+00,  1.58532537e-02,\n",
       "         9.08330365e-01],\n",
       "       [-3.01918897e-01, -1.32736952e-01,  1.26139659e+00,\n",
       "         1.82207873e+00,  2.57105544e-01,  1.33998159e+00,\n",
       "        -6.52133502e-01,  1.91122706e-01, -5.47345350e-01,\n",
       "        -1.25768047e-01],\n",
       "       [-1.45423090e+00,  2.13160906e+00,  1.95087144e+00,\n",
       "        -1.64857243e-01, -4.30740901e-01, -4.80351147e-01,\n",
       "         1.12848842e-01,  8.41034865e-01,  7.30912834e-01,\n",
       "        -2.48094471e-01],\n",
       "       [-1.11800841e+00, -9.66976357e-03, -1.19995023e+00,\n",
       "        -1.07975431e+00, -9.18608069e-01,  1.41012358e+00,\n",
       "        -2.07221709e+00,  9.19870814e-01,  5.49871801e-01,\n",
       "         6.94176487e-01],\n",
       "       [-1.58270063e-01,  9.79614183e-01,  1.16671632e+00,\n",
       "        -5.60388332e-01,  2.09946300e-01, -4.81712106e-01,\n",
       "         1.63927958e+00,  1.29085110e+00,  2.75507143e-01,\n",
       "        -3.06295833e+00],\n",
       "       [ 3.10456330e-01,  3.64277402e-01, -8.18821996e-01,\n",
       "         3.48865820e-01, -1.32169404e+00,  1.34460650e+00,\n",
       "         9.46353386e-01,  7.36868211e-01,  1.23934523e+00,\n",
       "        -1.02797796e-01],\n",
       "       [ 9.18996623e-01, -1.59548602e-01, -1.23024536e+00,\n",
       "        -9.11103175e-01,  4.56871048e-01, -1.88778935e+00,\n",
       "         4.98944143e-01, -1.51159001e+00,  6.02074587e-01,\n",
       "        -9.88792673e-01],\n",
       "       [ 8.18999842e-01, -2.25806460e-01,  1.23080696e-01,\n",
       "         9.94954418e-01, -9.84573927e-01, -3.51028777e-01,\n",
       "         1.84120552e-01, -2.59383959e-01,  4.47879672e-01,\n",
       "        -2.66767439e-01],\n",
       "       [ 5.44523945e-01,  1.01185516e+00, -1.59951112e+00,\n",
       "         4.62692876e-01, -3.84941375e-01,  1.44649568e+00,\n",
       "        -5.84978179e-01,  1.11087643e+00,  2.49148620e+00,\n",
       "         8.24389930e-01],\n",
       "       [-1.31126604e+00,  1.15082433e+00,  8.56918020e-01,\n",
       "         5.12357013e-01,  5.68220253e-02,  1.05218658e+00,\n",
       "         2.95182354e-01, -7.21950421e-01, -4.78733842e-01,\n",
       "         7.34264512e-01],\n",
       "       [-5.34225727e-01,  1.45056922e+00,  1.29305702e-01,\n",
       "         1.14519208e-02,  1.03233529e+00, -5.46086098e-01,\n",
       "         1.52328592e+00,  6.27750815e-01, -7.68384625e-01,\n",
       "         1.44208691e+00],\n",
       "       [ 1.03272537e+00,  8.77031008e-01, -2.83047599e-01,\n",
       "         8.72733892e-01,  1.02826573e+00,  1.34186743e+00,\n",
       "        -1.80449221e-01,  7.47036836e-01,  3.76285489e-02,\n",
       "         6.69781485e-01],\n",
       "       [ 9.54139250e-01, -1.48769544e+00, -6.56840369e-01,\n",
       "        -1.26559415e+00, -1.01117770e-01, -1.19505615e+00,\n",
       "        -7.38886969e-02, -9.79215697e-01, -1.44676200e-01,\n",
       "         8.57679176e-01],\n",
       "       [-2.69916778e-01,  1.27875704e-01,  1.16986904e+00,\n",
       "         2.29130379e-01, -1.08094449e+00,  2.80521806e-02,\n",
       "        -6.60363651e-02,  3.96339504e-01,  2.61724628e-01,\n",
       "         8.92693227e-01],\n",
       "       [ 9.67460434e-01, -5.14296560e-01, -3.83999189e-02,\n",
       "         8.51291540e-01,  1.23426746e-01,  1.23885021e+00,\n",
       "         1.32519050e+00, -6.06230364e-01, -6.54837087e-02,\n",
       "        -9.88199600e-01],\n",
       "       [ 8.54782520e-01, -3.75644024e-01,  4.28554106e-01,\n",
       "         3.83698754e-01,  4.67846297e-01,  6.73635535e-01,\n",
       "        -4.01543808e-01, -8.95014506e-01, -1.89171275e-01,\n",
       "         1.83990029e-01],\n",
       "       [-1.73624180e+00, -1.51357208e-01,  1.86755799e+00,\n",
       "        -9.78829859e-01, -1.54228815e+00,  1.05215348e+00,\n",
       "         7.58829549e-01,  8.91967582e-01,  9.50088418e-01,\n",
       "        -9.77277880e-01]])"
      ]
     },
     "execution_count": 191,
     "metadata": {},
     "output_type": "execute_result"
    }
   ],
   "source": [
    "from sklearn.datasets import make_regression\n",
    "from sklearn.linear_model import Ridge\n",
    "from sklearn.feature_selection import SelectKBest, f_regression\n",
    "from sklearn.model_selection import cross_validate\n",
    "from sklearn.pipeline import make_pipeline\n",
    "from matplotlib import pyplot as plt\n",
    "\n",
    "X, y = make_regression(noise=10, n_features=5000, random_state=0)\n",
    "\n",
    "X_reduced = SelectKBest(f_regression).fit_transform(X, y)\n",
    "scores = cross_validate(Ridge(), X_reduced, y)[\"test_score\"]\n",
    "print(\"feature selection in 'preprocessing':\", scores)"
   ]
  },
  {
   "cell_type": "markdown",
   "metadata": {},
   "source": [
    "So...now let's fix it. To do this we are going to create a pipeline. We will make sure to fit the whole pipeline to the training set.\n",
    "\n",
    "**Your task:**\n",
    "* Modify the 'model' variable. Use the appropriate sklearn method to make a pipeline out of the functions from the previous chunk of code.\n",
    "* How do your results vary? Why do you think this is?"
   ]
  },
  {
   "cell_type": "code",
   "execution_count": 192,
   "metadata": {},
   "outputs": [
    {
     "name": "stdout",
     "output_type": "stream",
     "text": [
      "feature selection on train set: [ 0.11577751  0.0439333  -0.27625968  0.32327364  0.28367254]\n"
     ]
    },
    {
     "data": {
      "image/png": "[encoded data removed]",
      "text/plain": [
       "<Figure size 432x288 with 1 Axes>"
      ]
     },
     "metadata": {
      "needs_background": "light"
     },
     "output_type": "display_data"
    }
   ],
   "source": [
    "model = make_pipeline(SelectKBest(f_regression), Ridge())\n",
    "scores_pipe = cross_validate(model, X, y)[\"test_score\"]\n",
    "print(\"feature selection on train set:\", scores_pipe)\n",
    "\n",
    "\n",
    "# Plotting our results!\n",
    "plt.boxplot(\n",
    "    [scores_pipe, scores],\n",
    "    vert=False,\n",
    "    labels=[\n",
    "        \"feature selection on train set\",\n",
    "        \"feature selection on whole data\",\n",
    "    ],\n",
    ")\n",
    "plt.gca().set_xlabel(\"R² score\")\n",
    "plt.tight_layout()\n",
    "plt.show()"
   ]
  },
  {
   "cell_type": "markdown",
   "metadata": {},
   "source": [
    "## Question 3: Dimensionality Reduction"
   ]
  },
  {
   "cell_type": "markdown",
   "metadata": {},
   "source": [
    "The sklearn library has included a dataset featuring breast cancer data. We fit the data, then transform it, standardizing the feature variable.\n",
    "\n",
    "**Your task:**\n",
    "* Use the sklearn PCA model to only keep the first two principal components of the data.\n",
    "* Fit the PCA model to breast cancer data, and tranform the data onto the first two principal components.\n",
    "* Compare original and reduced shape of the data...Is it behaving how you would expect?\n",
    "* Bonus: Create a plot to visualize the first vs second principal components (or any other method you would like to compare them)! Does it seem like the classes are easily separable?"
   ]
  },
  {
   "cell_type": "code",
   "execution_count": 208,
   "metadata": {},
   "outputs": [
    {
     "name": "stdout",
     "output_type": "stream",
     "text": [
      "(569, 30)\n",
      "(569, 2)\n"
     ]
    }
   ],
   "source": [
    "from sklearn.datasets import load_breast_cancer\n",
    "from sklearn.decomposition import PCA\n",
    "from sklearn.preprocessing import StandardScaler\n",
    "\n",
    "cancer = load_breast_cancer()\n",
    "scaler = StandardScaler()\n",
    "scaler.fit(cancer.data)\n",
    "X_scaled = scaler.transform(cancer.data)\n",
    "\n",
    "#cancer\n",
    "pca = PCA(n_components=2)\n",
    "pca.fit(X_scaled)\n",
    "X_pca = pca.transform(X_scaled)\n",
    "print(str(X_scaled.shape))\n",
    "print(str(X_pca.shape))"
   ]
  },
  {
   "cell_type": "markdown",
   "metadata": {},
   "source": [
    "## Question 4: Big Picture - Scanning site prediction"
   ]
  },
  {
   "cell_type": "markdown",
   "metadata": {},
   "source": [
    "We have some fMRI time series, that we use to compute a connectivity matrix for each participant. We use the connectivity matrix values as our input features to predict to which site the participant belongs.\n",
    "We classify participants using a logistic regression. However we make several additions.\n",
    "\n",
    "### Pipeline\n",
    "We use scikit-learn's `sklearn.pipeline.Pipeline`, that enables chaining several transformations into a single scikit-learn estimator (an object with a `fit` method). This avoids dealing with the connectivity feature extraction separately and ensures everything is fitted on the training data only -- which is crucial here because we will add scaling a dimensionality reduction step with Principal Component Analysis.\n",
    "\n",
    "### Scaling\n",
    "We add scaling of the input features using scikit-learn's StandardScaler, which removes the mean and scales the features to unit variance. This helps the logistic regression solver converge faster and often improves performance.\n",
    "\n",
    "### Dimensionality Reduction\n",
    "We also consider a pipeline that reduces the dimension of input features with PCA, and compare it to the baseline logistic regrssion. One advantage is that the pipeline that uses PCA can be fitted much faster.\n",
    "\n",
    "### Cross-validation\n",
    "Here, we will use scikit-learn's `cross_validate` to perform K-Fold cross-validation and get a better estimate of our model's generalization performance. This allows comparing logistic regression with and without PCA, as well as a naive baseline.\n",
    "\n",
    "Moreover, instead of the plain `LogisticRegression`, we use scikit-learn's `LogisticRegressionCV`, which automatically performs a nested cross-validation loop on the training data to select the best hyperparameter.\n",
    "\n",
    "**We therefore obtain a typical supervised learning experiment, with learning pipelines that involve chained transformations, hyperparameter selection, a cross-validation, and comparison of several models and a baseline.**"
   ]
  },
  {
   "cell_type": "markdown",
   "metadata": {},
   "source": [
    "# Exercises\n",
    "\n",
    "* Read, understand and run the code in the cell below. `load_connectivity_data` loads the data and returns the matrices `X` and `y`. `prepare_pipelines` returns a dictionary whose values are scikit-learn estimators and whose keys are names for each estimator. All estimators are instances of scikit-learn's `Pipeline`, and the first step is always connectivity feature extraction with nilearn's `ConnectivityMeasure`.\n",
    "\n",
    "\n",
    "* At the moment `prepare_pipelines` only returns 2 estimators: the logistic regression and a dummy estimator. Add a third estimator in the returned dictionary, which contains a dimensionality reduction step: a PCA with 20 components. To do so, add a `sklearn.decomposition.PCA` as the second step of the pipeline. Note 20 is an arbitrary choice; how could we set the number of components in a principled way? What is the largest number of components we could ask for?\n",
    "\n",
    "\n",
    "* There are 111 regions in the atlas we use to compute region-region connectivity matrices: the output of the `ConnectivityMeasure` has 111 * (111 - 1) / 2 = 6105 columns. If the dataset has 100 participants, What is the size of the coefficients of the logistic regression? of the selected (20 first) principal components? of the output of the PCA transformation (ie the compressed design matrix)?\n",
    "\n",
    "\n",
    "* Here we are storing data and model coefficients in arrays of 64-bit floating-point values, meaning each number takes 64 bits = 8 bytes of memory. Approximately how much memory is used by the design matrix X? by the dimensionality-reduced data (ie the kept left singular vectors of X)? by the principal components (the kept right singular vectors of X)?\n",
    "\n",
    "\n",
    "* As you can see, in this script we do not specify explicitly the metric functions that are used to evaluate models, but rely on scikit-learn's defaults instead. What metric is used in order to select the best hyperparameter? What metric is used to compute scores in `cross_validate`? Are these defaults appropriate for our particular situation?\n",
    "\n",
    "\n",
    "* We do not specify the cross-validation strategy either. Which cross-validation procedure is used in `cross_validate`, and by the `LogisticRegressionCV`? Are these choices appropriate?\n",
    "\n",
    "## Additional exercises (optional)\n",
    "\n",
    "* Try replacing the default metrics with other scoring functions from scikit-learn or functions that you write yourself. Does the relative performance of the models change?\n",
    "\n",
    "* Specify the cross-validation strategy explicitly, possibly choosing a different one than the default.\n",
    "\n",
    "* Add another estimator to the options returned by `prepare_pipelines`, that uses univariate feature selection instead of PCA.\n",
    "\n",
    "* What other approach could we use to obtain connectivity features of a lower dimension?"
   ]
  },
  {
   "cell_type": "code",
   "execution_count": 216,
   "metadata": {},
   "outputs": [],
   "source": [
    "from nilearn import datasets\n",
    "from nilearn.connectome import ConnectivityMeasure\n",
    "\n",
    "from sklearn.base import clone\n",
    "from sklearn.preprocessing import LabelEncoder, StandardScaler\n",
    "from sklearn.model_selection import cross_validate\n",
    "from sklearn.pipeline import make_pipeline\n",
    "from sklearn.linear_model import LogisticRegressionCV\n",
    "from sklearn.dummy import DummyClassifier\n",
    "from sklearn.decomposition import PCA\n",
    "\n",
    "from matplotlib import pyplot as plt\n",
    "import pandas as pd\n",
    "import seaborn as sns"
   ]
  },
  {
   "cell_type": "code",
   "execution_count": 217,
   "metadata": {},
   "outputs": [
    {
     "ename": "SyntaxError",
     "evalue": "invalid syntax (1098222034.py, line 36)",
     "output_type": "error",
     "traceback": [
      "\u001b[0;36m  Input \u001b[0;32mIn [217]\u001b[0;36m\u001b[0m\n\u001b[0;31m    PCA =\u001b[0m\n\u001b[0m          ^\u001b[0m\n\u001b[0;31mSyntaxError\u001b[0m\u001b[0;31m:\u001b[0m invalid syntax\n"
     ]
    }
   ],
   "source": [
    "def load_timeseries_and_site(n_subjects=100):\n",
    "    \"\"\"Load ABIDE timeseries and participants' site.\n",
    "    Returns X, a list with one array of shape (n_samples, n_rois) per\n",
    "    participant, and y, an array of length n_participants containing integers\n",
    "    representing the site each participant belongs to.\n",
    "    \"\"\"\n",
    "    data = datasets.fetch_abide_pcp(\n",
    "        n_subjects=n_subjects, derivatives=[\"rois_ho\"], quality_checked=False\n",
    "    )\n",
    "    X = data[\"rois_ho\"]\n",
    "    y = LabelEncoder().fit_transform(data[\"phenotypic\"][\"SITE_ID\"])\n",
    "    return X, y\n",
    "\n",
    "def prepare_pipelines():\n",
    "    \"\"\"Prepare scikit-learn pipelines for fmri classification with connectivity.\n",
    "    Returns a dictionary where each value is a scikit-learn estimator (a\n",
    "    `Pipeline`) and the corresponding key is a descriptive string for that\n",
    "    estimator.\n",
    "    As an exercise you need to add a pipeline that performs dimensionality\n",
    "    reduction with PCA.\n",
    "    \"\"\"\n",
    "    connectivity = ConnectivityMeasure(\n",
    "        kind=\"correlation\", vectorize=True, discard_diagonal=True\n",
    "    )\n",
    "    scaling = StandardScaler()\n",
    "    logreg = LogisticRegressionCV(solver=\"liblinear\", cv=3, Cs=3)\n",
    "    logistic_reg = make_pipeline(\n",
    "        clone(connectivity), clone(scaling), clone(logreg)\n",
    "    )\n",
    "    # make_pipeline is a convenient way to create a Pipeline by passing the\n",
    "    # steps as arguments. clone creates a copy of the input estimator, to avoid\n",
    "    # sharing the state of an estimator across pipelines.\n",
    "    dummy = make_pipeline(clone(connectivity), DummyClassifier())\n",
    "    # TODO: add a pipeline with a PCA dimensionality reduction step to this\n",
    "    # dictionary. You will need to import `sklearn.decomposition.PCA`.\n",
    "    \n",
    "    PCA_dim_red = PCA(n_components=2)\n",
    "    PCA_pipe = make_pipeline(\n",
    "        clone(connectivity), clone(sacling), clone(PCA_dim_red), clone(logreg)\n",
    "    )\n",
    "    return {\n",
    "        \"Logistic no PCA\": logistic_reg,\n",
    "        \"Dummy\": dummy,\n",
    "        \"PCA\": PCA_pipe\n",
    "    }\n",
    "\n",
    "def compute_cv_scores(models, X, y):\n",
    "    \"\"\"Compute cross-validation scores for all models\n",
    "    `models` is a dictionary like the one returned by `prepare_pipelines`, ie\n",
    "    of the form `{\"model_name\": estimator}`, where `estimator` is a\n",
    "    scikit-learn estimator.\n",
    "    `X` and `y` are the design matrix and the outputs to predict.\n",
    "    Returns a `pd.DataFrame` with one row for each model and cross-validation\n",
    "    fold. Columns include `test_score` and `fit_time`.\n",
    "    \"\"\"\n",
    "    all_scores = []\n",
    "    for model_name, model in models.items():\n",
    "        print(f\"Computing scores for model: '{model_name}'\")\n",
    "        model_scores = pd.DataFrame(cross_validate(model, X, y))\n",
    "        model_scores[\"model\"] = model_name\n",
    "        all_scores.append(model_scores)\n",
    "    all_scores = pd.concat(all_scores)\n",
    "    return all_scores"
   ]
  },
  {
   "cell_type": "code",
   "execution_count": null,
   "metadata": {},
   "outputs": [
    {
     "name": "stdout",
     "output_type": "stream",
     "text": [
      "\n",
      "Dataset created in /Users/jobayer/nilearn_data/ABIDE_pcp\n",
      "\n",
      "Downloading data from https://s3.amazonaws.com/fcp-indi/data/Projects/ABIDE_Initiative/Phenotypic_V1_0b_preprocessed1.csv ...\n"
     ]
    },
    {
     "name": "stderr",
     "output_type": "stream",
     "text": [
      "Downloaded 212992 of 449443 bytes (47.4%,    1.3s remaining) ...done. (3 seconds, 0 min)\n",
      "/Library/Frameworks/Python.framework/Versions/3.10/lib/python3.10/site-packages/nilearn/datasets/func.py:1020: UserWarning: `legacy_format` will default to `False` in release 0.11. Dataset fetchers will then return pandas dataframes by default instead of recarrays.\n",
      "  warnings.warn(_LEGACY_FORMAT_MSG)\n"
     ]
    },
    {
     "name": "stdout",
     "output_type": "stream",
     "text": [
      "Downloading data from https://s3.amazonaws.com/fcp-indi/data/Projects/ABIDE_Initiative/Outputs/cpac/nofilt_noglobal/rois_ho/Pitt_0050003_rois_ho.1D ...\n"
     ]
    },
    {
     "name": "stderr",
     "output_type": "stream",
     "text": [
      "Downloaded 40960 of 220972 bytes (18.5%,    6.2s remaining) ...done. (4 seconds, 0 min)\n"
     ]
    },
    {
     "name": "stdout",
     "output_type": "stream",
     "text": [
      "Downloading data from https://s3.amazonaws.com/fcp-indi/data/Projects/ABIDE_Initiative/Outputs/cpac/nofilt_noglobal/rois_ho/Pitt_0050004_rois_ho.1D ...\n"
     ]
    },
    {
     "name": "stderr",
     "output_type": "stream",
     "text": [
      "Downloaded 212992 of 217389 bytes (98.0%,    0.0s remaining) ...done. (3 seconds, 0 min)\n"
     ]
    },
    {
     "name": "stdout",
     "output_type": "stream",
     "text": [
      "Downloading data from https://s3.amazonaws.com/fcp-indi/data/Projects/ABIDE_Initiative/Outputs/cpac/nofilt_noglobal/rois_ho/Pitt_0050005_rois_ho.1D ...\n"
     ]
    },
    {
     "name": "stderr",
     "output_type": "stream",
     "text": [
      "Downloaded 90112 of 218531 bytes (41.2%,    1.5s remaining) ...done. (3 seconds, 0 min)\n"
     ]
    },
    {
     "name": "stdout",
     "output_type": "stream",
     "text": [
      "Downloading data from https://s3.amazonaws.com/fcp-indi/data/Projects/ABIDE_Initiative/Outputs/cpac/nofilt_noglobal/rois_ho/Pitt_0050006_rois_ho.1D ...\n"
     ]
    },
    {
     "name": "stderr",
     "output_type": "stream",
     "text": [
      "Downloaded 180224 of 216512 bytes (83.2%,    0.3s remaining) ...done. (3 seconds, 0 min)\n"
     ]
    },
    {
     "name": "stdout",
     "output_type": "stream",
     "text": [
      "Downloading data from https://s3.amazonaws.com/fcp-indi/data/Projects/ABIDE_Initiative/Outputs/cpac/nofilt_noglobal/rois_ho/Pitt_0050007_rois_ho.1D ...\n"
     ]
    },
    {
     "name": "stderr",
     "output_type": "stream",
     "text": [
      "Downloaded 180224 of 220867 bytes (81.6%,    0.3s remaining) ...done. (3 seconds, 0 min)\n"
     ]
    },
    {
     "name": "stdout",
     "output_type": "stream",
     "text": [
      "Downloading data from https://s3.amazonaws.com/fcp-indi/data/Projects/ABIDE_Initiative/Outputs/cpac/nofilt_noglobal/rois_ho/Pitt_0050008_rois_ho.1D ...\n"
     ]
    },
    {
     "name": "stderr",
     "output_type": "stream",
     "text": [
      "Downloaded 106496 of 218596 bytes (48.7%,    1.1s remaining) ...done. (3 seconds, 0 min)\n"
     ]
    },
    {
     "name": "stdout",
     "output_type": "stream",
     "text": [
      "Downloading data from https://s3.amazonaws.com/fcp-indi/data/Projects/ABIDE_Initiative/Outputs/cpac/nofilt_noglobal/rois_ho/Pitt_0050009_rois_ho.1D ...\n"
     ]
    },
    {
     "name": "stderr",
     "output_type": "stream",
     "text": [
      "Downloaded 147456 of 219017 bytes (67.3%,    0.6s remaining) ...done. (3 seconds, 0 min)\n"
     ]
    },
    {
     "name": "stdout",
     "output_type": "stream",
     "text": [
      "Downloading data from https://s3.amazonaws.com/fcp-indi/data/Projects/ABIDE_Initiative/Outputs/cpac/nofilt_noglobal/rois_ho/Pitt_0050010_rois_ho.1D ...\n"
     ]
    },
    {
     "name": "stderr",
     "output_type": "stream",
     "text": [
      "Downloaded 180224 of 214012 bytes (84.2%,    0.8s remaining) ...done. (6 seconds, 0 min)\n"
     ]
    },
    {
     "name": "stdout",
     "output_type": "stream",
     "text": [
      "Downloading data from https://s3.amazonaws.com/fcp-indi/data/Projects/ABIDE_Initiative/Outputs/cpac/nofilt_noglobal/rois_ho/Pitt_0050011_rois_ho.1D ...\n"
     ]
    },
    {
     "name": "stderr",
     "output_type": "stream",
     "text": [
      "Downloaded 106496 of 216552 bytes (49.2%,    1.1s remaining) ...done. (3 seconds, 0 min)\n"
     ]
    },
    {
     "name": "stdout",
     "output_type": "stream",
     "text": [
      "Downloading data from https://s3.amazonaws.com/fcp-indi/data/Projects/ABIDE_Initiative/Outputs/cpac/nofilt_noglobal/rois_ho/Pitt_0050012_rois_ho.1D ...\n"
     ]
    },
    {
     "name": "stderr",
     "output_type": "stream",
     "text": [
      "Downloaded 180224 of 218796 bytes (82.4%,    0.3s remaining) ...done. (3 seconds, 0 min)\n"
     ]
    },
    {
     "name": "stdout",
     "output_type": "stream",
     "text": [
      "Downloading data from https://s3.amazonaws.com/fcp-indi/data/Projects/ABIDE_Initiative/Outputs/cpac/nofilt_noglobal/rois_ho/Pitt_0050013_rois_ho.1D ...\n"
     ]
    },
    {
     "name": "stderr",
     "output_type": "stream",
     "text": [
      "Downloaded 180224 of 219942 bytes (81.9%,    0.2s remaining) ...done. (2 seconds, 0 min)\n"
     ]
    },
    {
     "name": "stdout",
     "output_type": "stream",
     "text": [
      "Downloading data from https://s3.amazonaws.com/fcp-indi/data/Projects/ABIDE_Initiative/Outputs/cpac/nofilt_noglobal/rois_ho/Pitt_0050014_rois_ho.1D ...\n"
     ]
    },
    {
     "name": "stderr",
     "output_type": "stream",
     "text": [
      "Downloaded 180224 of 217406 bytes (82.9%,    0.2s remaining) ...done. (2 seconds, 0 min)\n"
     ]
    },
    {
     "name": "stdout",
     "output_type": "stream",
     "text": [
      "Downloading data from https://s3.amazonaws.com/fcp-indi/data/Projects/ABIDE_Initiative/Outputs/cpac/nofilt_noglobal/rois_ho/Pitt_0050015_rois_ho.1D ...\n"
     ]
    },
    {
     "name": "stderr",
     "output_type": "stream",
     "text": [
      " ...done. (2 seconds, 0 min)\n"
     ]
    },
    {
     "name": "stdout",
     "output_type": "stream",
     "text": [
      "Downloading data from https://s3.amazonaws.com/fcp-indi/data/Projects/ABIDE_Initiative/Outputs/cpac/nofilt_noglobal/rois_ho/Pitt_0050016_rois_ho.1D ...\n"
     ]
    },
    {
     "name": "stderr",
     "output_type": "stream",
     "text": [
      "Downloaded 98304 of 217445 bytes (45.2%,    1.3s remaining) ...done. (3 seconds, 0 min)\n"
     ]
    },
    {
     "name": "stdout",
     "output_type": "stream",
     "text": [
      "Downloading data from https://s3.amazonaws.com/fcp-indi/data/Projects/ABIDE_Initiative/Outputs/cpac/nofilt_noglobal/rois_ho/Pitt_0050017_rois_ho.1D ...\n"
     ]
    },
    {
     "name": "stderr",
     "output_type": "stream",
     "text": [
      "Downloaded 122880 of 220564 bytes (55.7%,    0.9s remaining) ...done. (3 seconds, 0 min)\n"
     ]
    },
    {
     "name": "stdout",
     "output_type": "stream",
     "text": [
      "Downloading data from https://s3.amazonaws.com/fcp-indi/data/Projects/ABIDE_Initiative/Outputs/cpac/nofilt_noglobal/rois_ho/Pitt_0050019_rois_ho.1D ...\n"
     ]
    },
    {
     "name": "stderr",
     "output_type": "stream",
     "text": [
      "Downloaded 73728 of 218330 bytes (33.8%,    2.2s remaining) ...done. (3 seconds, 0 min)\n"
     ]
    },
    {
     "name": "stdout",
     "output_type": "stream",
     "text": [
      "Downloading data from https://s3.amazonaws.com/fcp-indi/data/Projects/ABIDE_Initiative/Outputs/cpac/nofilt_noglobal/rois_ho/Pitt_0050020_rois_ho.1D ...\n"
     ]
    },
    {
     "name": "stderr",
     "output_type": "stream",
     "text": [
      "Downloaded 90112 of 216974 bytes (41.5%,    1.4s remaining) ...done. (3 seconds, 0 min)\n"
     ]
    },
    {
     "name": "stdout",
     "output_type": "stream",
     "text": [
      "Downloading data from https://s3.amazonaws.com/fcp-indi/data/Projects/ABIDE_Initiative/Outputs/cpac/nofilt_noglobal/rois_ho/Pitt_0050022_rois_ho.1D ...\n"
     ]
    },
    {
     "name": "stderr",
     "output_type": "stream",
     "text": [
      "Downloaded 57344 of 218036 bytes (26.3%,    2.9s remaining) ...done. (3 seconds, 0 min)\n"
     ]
    },
    {
     "name": "stdout",
     "output_type": "stream",
     "text": [
      "Downloading data from https://s3.amazonaws.com/fcp-indi/data/Projects/ABIDE_Initiative/Outputs/cpac/nofilt_noglobal/rois_ho/Pitt_0050023_rois_ho.1D ...\n"
     ]
    },
    {
     "name": "stderr",
     "output_type": "stream",
     "text": [
      "Downloaded 98304 of 219223 bytes (44.8%,    1.4s remaining) ...done. (3 seconds, 0 min)\n"
     ]
    },
    {
     "name": "stdout",
     "output_type": "stream",
     "text": [
      "Downloading data from https://s3.amazonaws.com/fcp-indi/data/Projects/ABIDE_Initiative/Outputs/cpac/nofilt_noglobal/rois_ho/Pitt_0050024_rois_ho.1D ...\n"
     ]
    },
    {
     "name": "stderr",
     "output_type": "stream",
     "text": [
      " ...done. (2 seconds, 0 min)\n"
     ]
    },
    {
     "name": "stdout",
     "output_type": "stream",
     "text": [
      "Downloading data from https://s3.amazonaws.com/fcp-indi/data/Projects/ABIDE_Initiative/Outputs/cpac/nofilt_noglobal/rois_ho/Pitt_0050025_rois_ho.1D ...\n"
     ]
    },
    {
     "name": "stderr",
     "output_type": "stream",
     "text": [
      "Downloaded 98304 of 217615 bytes (45.2%,    1.3s remaining) ...done. (3 seconds, 0 min)\n"
     ]
    },
    {
     "name": "stdout",
     "output_type": "stream",
     "text": [
      "Downloading data from https://s3.amazonaws.com/fcp-indi/data/Projects/ABIDE_Initiative/Outputs/cpac/nofilt_noglobal/rois_ho/Pitt_0050026_rois_ho.1D ...\n"
     ]
    },
    {
     "name": "stderr",
     "output_type": "stream",
     "text": [
      "Downloaded 122880 of 220718 bytes (55.7%,    0.8s remaining) ...done. (3 seconds, 0 min)\n"
     ]
    },
    {
     "name": "stdout",
     "output_type": "stream",
     "text": [
      "Downloading data from https://s3.amazonaws.com/fcp-indi/data/Projects/ABIDE_Initiative/Outputs/cpac/nofilt_noglobal/rois_ho/Pitt_0050027_rois_ho.1D ...\n"
     ]
    },
    {
     "name": "stderr",
     "output_type": "stream",
     "text": [
      " ...done. (2 seconds, 0 min)\n"
     ]
    },
    {
     "name": "stdout",
     "output_type": "stream",
     "text": [
      "Downloading data from https://s3.amazonaws.com/fcp-indi/data/Projects/ABIDE_Initiative/Outputs/cpac/nofilt_noglobal/rois_ho/Pitt_0050028_rois_ho.1D ...\n"
     ]
    },
    {
     "name": "stderr",
     "output_type": "stream",
     "text": [
      "Downloaded 172032 of 220359 bytes (78.1%,    0.3s remaining) ...done. (3 seconds, 0 min)\n"
     ]
    },
    {
     "name": "stdout",
     "output_type": "stream",
     "text": [
      "Downloading data from https://s3.amazonaws.com/fcp-indi/data/Projects/ABIDE_Initiative/Outputs/cpac/nofilt_noglobal/rois_ho/Pitt_0050029_rois_ho.1D ...\n"
     ]
    },
    {
     "name": "stderr",
     "output_type": "stream",
     "text": [
      " ...done. (3 seconds, 0 min)\n"
     ]
    },
    {
     "name": "stdout",
     "output_type": "stream",
     "text": [
      "Downloading data from https://s3.amazonaws.com/fcp-indi/data/Projects/ABIDE_Initiative/Outputs/cpac/nofilt_noglobal/rois_ho/Pitt_0050030_rois_ho.1D ...\n"
     ]
    },
    {
     "name": "stderr",
     "output_type": "stream",
     "text": [
      "Downloaded 139264 of 217356 bytes (64.1%,    0.9s remaining) ...done. (4 seconds, 0 min)\n"
     ]
    },
    {
     "name": "stdout",
     "output_type": "stream",
     "text": [
      "Downloading data from https://s3.amazonaws.com/fcp-indi/data/Projects/ABIDE_Initiative/Outputs/cpac/nofilt_noglobal/rois_ho/Pitt_0050031_rois_ho.1D ...\n"
     ]
    },
    {
     "name": "stderr",
     "output_type": "stream",
     "text": [
      "Downloaded 212992 of 218552 bytes (97.5%,    0.1s remaining) ...done. (3 seconds, 0 min)\n"
     ]
    },
    {
     "name": "stdout",
     "output_type": "stream",
     "text": [
      "Downloading data from https://s3.amazonaws.com/fcp-indi/data/Projects/ABIDE_Initiative/Outputs/cpac/nofilt_noglobal/rois_ho/Pitt_0050032_rois_ho.1D ...\n"
     ]
    },
    {
     "name": "stderr",
     "output_type": "stream",
     "text": [
      "Downloaded 131072 of 217389 bytes (60.3%,    0.7s remaining) ...done. (3 seconds, 0 min)\n"
     ]
    },
    {
     "name": "stdout",
     "output_type": "stream",
     "text": [
      "Downloading data from https://s3.amazonaws.com/fcp-indi/data/Projects/ABIDE_Initiative/Outputs/cpac/nofilt_noglobal/rois_ho/Pitt_0050033_rois_ho.1D ...\n"
     ]
    },
    {
     "name": "stderr",
     "output_type": "stream",
     "text": [
      "Downloaded 180224 of 219835 bytes (82.0%,    0.2s remaining) ...done. (3 seconds, 0 min)\n"
     ]
    },
    {
     "name": "stdout",
     "output_type": "stream",
     "text": [
      "Downloading data from https://s3.amazonaws.com/fcp-indi/data/Projects/ABIDE_Initiative/Outputs/cpac/nofilt_noglobal/rois_ho/Pitt_0050034_rois_ho.1D ...\n"
     ]
    },
    {
     "name": "stderr",
     "output_type": "stream",
     "text": [
      "Downloaded 90112 of 218522 bytes (41.2%,    1.7s remaining) ...done. (3 seconds, 0 min)\n"
     ]
    },
    {
     "name": "stdout",
     "output_type": "stream",
     "text": [
      "Downloading data from https://s3.amazonaws.com/fcp-indi/data/Projects/ABIDE_Initiative/Outputs/cpac/nofilt_noglobal/rois_ho/Pitt_0050035_rois_ho.1D ...\n"
     ]
    },
    {
     "name": "stderr",
     "output_type": "stream",
     "text": [
      "Downloaded 98304 of 218966 bytes (44.9%,    1.2s remaining) ...done. (3 seconds, 0 min)\n"
     ]
    },
    {
     "name": "stdout",
     "output_type": "stream",
     "text": [
      "Downloading data from https://s3.amazonaws.com/fcp-indi/data/Projects/ABIDE_Initiative/Outputs/cpac/nofilt_noglobal/rois_ho/Pitt_0050036_rois_ho.1D ...\n"
     ]
    },
    {
     "name": "stderr",
     "output_type": "stream",
     "text": [
      "Downloaded 163840 of 217316 bytes (75.4%,    0.3s remaining) ...done. (2 seconds, 0 min)\n"
     ]
    },
    {
     "name": "stdout",
     "output_type": "stream",
     "text": [
      "Downloading data from https://s3.amazonaws.com/fcp-indi/data/Projects/ABIDE_Initiative/Outputs/cpac/nofilt_noglobal/rois_ho/Pitt_0050037_rois_ho.1D ...\n"
     ]
    },
    {
     "name": "stderr",
     "output_type": "stream",
     "text": [
      "Downloaded 212992 of 218059 bytes (97.7%,    0.1s remaining) ...done. (6 seconds, 0 min)\n"
     ]
    },
    {
     "name": "stdout",
     "output_type": "stream",
     "text": [
      "Downloading data from https://s3.amazonaws.com/fcp-indi/data/Projects/ABIDE_Initiative/Outputs/cpac/nofilt_noglobal/rois_ho/Pitt_0050038_rois_ho.1D ...\n"
     ]
    },
    {
     "name": "stderr",
     "output_type": "stream",
     "text": [
      "Downloaded 106496 of 216732 bytes (49.1%,    3.6s remaining) ...done. (6 seconds, 0 min)\n"
     ]
    },
    {
     "name": "stdout",
     "output_type": "stream",
     "text": [
      "Downloading data from https://s3.amazonaws.com/fcp-indi/data/Projects/ABIDE_Initiative/Outputs/cpac/nofilt_noglobal/rois_ho/Pitt_0050039_rois_ho.1D ...\n"
     ]
    },
    {
     "name": "stderr",
     "output_type": "stream",
     "text": [
      "Downloaded 131072 of 222777 bytes (58.8%,    0.8s remaining) ...done. (3 seconds, 0 min)\n"
     ]
    },
    {
     "name": "stdout",
     "output_type": "stream",
     "text": [
      "Downloading data from https://s3.amazonaws.com/fcp-indi/data/Projects/ABIDE_Initiative/Outputs/cpac/nofilt_noglobal/rois_ho/Pitt_0050040_rois_ho.1D ...\n"
     ]
    },
    {
     "name": "stderr",
     "output_type": "stream",
     "text": [
      "Downloaded 180224 of 216026 bytes (83.4%,    0.2s remaining) ...done. (3 seconds, 0 min)\n"
     ]
    },
    {
     "name": "stdout",
     "output_type": "stream",
     "text": [
      "Downloading data from https://s3.amazonaws.com/fcp-indi/data/Projects/ABIDE_Initiative/Outputs/cpac/nofilt_noglobal/rois_ho/Pitt_0050041_rois_ho.1D ...\n"
     ]
    },
    {
     "name": "stderr",
     "output_type": "stream",
     "text": [
      "Downloaded 114688 of 216278 bytes (53.0%,    0.9s remaining) ...done. (3 seconds, 0 min)\n"
     ]
    },
    {
     "name": "stdout",
     "output_type": "stream",
     "text": [
      "Downloading data from https://s3.amazonaws.com/fcp-indi/data/Projects/ABIDE_Initiative/Outputs/cpac/nofilt_noglobal/rois_ho/Pitt_0050042_rois_ho.1D ...\n"
     ]
    },
    {
     "name": "stderr",
     "output_type": "stream",
     "text": [
      "Downloaded 155648 of 217626 bytes (71.5%,    0.4s remaining) ...done. (3 seconds, 0 min)\n"
     ]
    },
    {
     "name": "stdout",
     "output_type": "stream",
     "text": [
      "Downloading data from https://s3.amazonaws.com/fcp-indi/data/Projects/ABIDE_Initiative/Outputs/cpac/nofilt_noglobal/rois_ho/Pitt_0050043_rois_ho.1D ...\n"
     ]
    },
    {
     "name": "stderr",
     "output_type": "stream",
     "text": [
      " ...done. (2 seconds, 0 min)\n"
     ]
    },
    {
     "name": "stdout",
     "output_type": "stream",
     "text": [
      "Downloading data from https://s3.amazonaws.com/fcp-indi/data/Projects/ABIDE_Initiative/Outputs/cpac/nofilt_noglobal/rois_ho/Pitt_0050044_rois_ho.1D ...\n"
     ]
    },
    {
     "name": "stderr",
     "output_type": "stream",
     "text": [
      " ...done. (2 seconds, 0 min)\n"
     ]
    },
    {
     "name": "stdout",
     "output_type": "stream",
     "text": [
      "Downloading data from https://s3.amazonaws.com/fcp-indi/data/Projects/ABIDE_Initiative/Outputs/cpac/nofilt_noglobal/rois_ho/Pitt_0050045_rois_ho.1D ...\n"
     ]
    },
    {
     "name": "stderr",
     "output_type": "stream",
     "text": [
      "Downloaded 180224 of 216418 bytes (83.3%,    0.2s remaining) ...done. (3 seconds, 0 min)\n"
     ]
    },
    {
     "name": "stdout",
     "output_type": "stream",
     "text": [
      "Downloading data from https://s3.amazonaws.com/fcp-indi/data/Projects/ABIDE_Initiative/Outputs/cpac/nofilt_noglobal/rois_ho/Pitt_0050046_rois_ho.1D ...\n"
     ]
    },
    {
     "name": "stderr",
     "output_type": "stream",
     "text": [
      "Downloaded 147456 of 217465 bytes (67.8%,    0.6s remaining) ...done. (3 seconds, 0 min)\n"
     ]
    },
    {
     "name": "stdout",
     "output_type": "stream",
     "text": [
      "Downloading data from https://s3.amazonaws.com/fcp-indi/data/Projects/ABIDE_Initiative/Outputs/cpac/nofilt_noglobal/rois_ho/Pitt_0050047_rois_ho.1D ...\n"
     ]
    },
    {
     "name": "stderr",
     "output_type": "stream",
     "text": [
      "Downloaded 90112 of 216836 bytes (41.6%,    1.7s remaining) ...done. (3 seconds, 0 min)\n"
     ]
    },
    {
     "name": "stdout",
     "output_type": "stream",
     "text": [
      "Downloading data from https://s3.amazonaws.com/fcp-indi/data/Projects/ABIDE_Initiative/Outputs/cpac/nofilt_noglobal/rois_ho/Pitt_0050048_rois_ho.1D ...\n"
     ]
    },
    {
     "name": "stderr",
     "output_type": "stream",
     "text": [
      "Downloaded 139264 of 219304 bytes (63.5%,    0.6s remaining) ...done. (3 seconds, 0 min)\n"
     ]
    },
    {
     "name": "stdout",
     "output_type": "stream",
     "text": [
      "Downloading data from https://s3.amazonaws.com/fcp-indi/data/Projects/ABIDE_Initiative/Outputs/cpac/nofilt_noglobal/rois_ho/Pitt_0050049_rois_ho.1D ...\n"
     ]
    },
    {
     "name": "stderr",
     "output_type": "stream",
     "text": [
      "Downloaded 131072 of 221017 bytes (59.3%,    0.7s remaining) ...done. (3 seconds, 0 min)\n"
     ]
    },
    {
     "name": "stdout",
     "output_type": "stream",
     "text": [
      "Downloading data from https://s3.amazonaws.com/fcp-indi/data/Projects/ABIDE_Initiative/Outputs/cpac/nofilt_noglobal/rois_ho/Pitt_0050050_rois_ho.1D ...\n"
     ]
    },
    {
     "name": "stderr",
     "output_type": "stream",
     "text": [
      "Downloaded 114688 of 219013 bytes (52.4%,    0.9s remaining) ...done. (3 seconds, 0 min)\n"
     ]
    },
    {
     "name": "stdout",
     "output_type": "stream",
     "text": [
      "Downloading data from https://s3.amazonaws.com/fcp-indi/data/Projects/ABIDE_Initiative/Outputs/cpac/nofilt_noglobal/rois_ho/Pitt_0050051_rois_ho.1D ...\n"
     ]
    },
    {
     "name": "stderr",
     "output_type": "stream",
     "text": [
      "Downloaded 196608 of 217710 bytes (90.3%,    0.2s remaining) ...done. (4 seconds, 0 min)\n"
     ]
    },
    {
     "name": "stdout",
     "output_type": "stream",
     "text": [
      "Downloading data from https://s3.amazonaws.com/fcp-indi/data/Projects/ABIDE_Initiative/Outputs/cpac/nofilt_noglobal/rois_ho/Pitt_0050052_rois_ho.1D ...\n"
     ]
    },
    {
     "name": "stderr",
     "output_type": "stream",
     "text": [
      "Downloaded 139264 of 218808 bytes (63.6%,    0.6s remaining) ...done. (3 seconds, 0 min)\n"
     ]
    },
    {
     "name": "stdout",
     "output_type": "stream",
     "text": [
      "Downloading data from https://s3.amazonaws.com/fcp-indi/data/Projects/ABIDE_Initiative/Outputs/cpac/nofilt_noglobal/rois_ho/Pitt_0050053_rois_ho.1D ...\n"
     ]
    },
    {
     "name": "stderr",
     "output_type": "stream",
     "text": [
      "Downloaded 114688 of 220266 bytes (52.1%,    1.2s remaining) ...done. (3 seconds, 0 min)\n"
     ]
    },
    {
     "name": "stdout",
     "output_type": "stream",
     "text": [
      "Downloading data from https://s3.amazonaws.com/fcp-indi/data/Projects/ABIDE_Initiative/Outputs/cpac/nofilt_noglobal/rois_ho/Pitt_0050054_rois_ho.1D ...\n"
     ]
    },
    {
     "name": "stderr",
     "output_type": "stream",
     "text": [
      "Downloaded 212992 of 223022 bytes (95.5%,    0.0s remaining) ...done. (2 seconds, 0 min)\n"
     ]
    },
    {
     "name": "stdout",
     "output_type": "stream",
     "text": [
      "Downloading data from https://s3.amazonaws.com/fcp-indi/data/Projects/ABIDE_Initiative/Outputs/cpac/nofilt_noglobal/rois_ho/Pitt_0050055_rois_ho.1D ...\n"
     ]
    },
    {
     "name": "stderr",
     "output_type": "stream",
     "text": [
      "Downloaded 180224 of 214484 bytes (84.0%,    0.2s remaining) ...done. (2 seconds, 0 min)\n"
     ]
    },
    {
     "name": "stdout",
     "output_type": "stream",
     "text": [
      "Downloading data from https://s3.amazonaws.com/fcp-indi/data/Projects/ABIDE_Initiative/Outputs/cpac/nofilt_noglobal/rois_ho/Pitt_0050056_rois_ho.1D ...\n"
     ]
    },
    {
     "name": "stderr",
     "output_type": "stream",
     "text": [
      "Downloaded 90112 of 220253 bytes (40.9%,    1.7s remaining) ...done. (3 seconds, 0 min)\n"
     ]
    },
    {
     "name": "stdout",
     "output_type": "stream",
     "text": [
      "Downloading data from https://s3.amazonaws.com/fcp-indi/data/Projects/ABIDE_Initiative/Outputs/cpac/nofilt_noglobal/rois_ho/Pitt_0050057_rois_ho.1D ...\n"
     ]
    },
    {
     "name": "stderr",
     "output_type": "stream",
     "text": [
      "Downloaded 155648 of 217595 bytes (71.5%,    0.4s remaining) ...done. (3 seconds, 0 min)\n"
     ]
    },
    {
     "name": "stdout",
     "output_type": "stream",
     "text": [
      "Downloading data from https://s3.amazonaws.com/fcp-indi/data/Projects/ABIDE_Initiative/Outputs/cpac/nofilt_noglobal/rois_ho/Pitt_0050058_rois_ho.1D ...\n"
     ]
    },
    {
     "name": "stderr",
     "output_type": "stream",
     "text": [
      "Downloaded 106496 of 217811 bytes (48.9%,    1.1s remaining) ...done. (3 seconds, 0 min)\n"
     ]
    },
    {
     "name": "stdout",
     "output_type": "stream",
     "text": [
      "Downloading data from https://s3.amazonaws.com/fcp-indi/data/Projects/ABIDE_Initiative/Outputs/cpac/nofilt_noglobal/rois_ho/Pitt_0050059_rois_ho.1D ...\n"
     ]
    },
    {
     "name": "stderr",
     "output_type": "stream",
     "text": [
      "Downloaded 172032 of 218489 bytes (78.7%,    0.3s remaining) ...done. (2 seconds, 0 min)\n"
     ]
    },
    {
     "name": "stdout",
     "output_type": "stream",
     "text": [
      "Downloading data from https://s3.amazonaws.com/fcp-indi/data/Projects/ABIDE_Initiative/Outputs/cpac/nofilt_noglobal/rois_ho/Pitt_0050060_rois_ho.1D ...\n"
     ]
    },
    {
     "name": "stderr",
     "output_type": "stream",
     "text": [
      "Downloaded 122880 of 216568 bytes (56.7%,    2.6s remaining) ...done. (6 seconds, 0 min)\n"
     ]
    },
    {
     "name": "stdout",
     "output_type": "stream",
     "text": [
      "Downloading data from https://s3.amazonaws.com/fcp-indi/data/Projects/ABIDE_Initiative/Outputs/cpac/nofilt_noglobal/rois_ho/Olin_0050102_rois_ho.1D ...\n"
     ]
    },
    {
     "name": "stderr",
     "output_type": "stream",
     "text": [
      "Downloaded 180224 of 228968 bytes (78.7%,    0.3s remaining) ...done. (3 seconds, 0 min)\n"
     ]
    },
    {
     "name": "stdout",
     "output_type": "stream",
     "text": [
      "Downloading data from https://s3.amazonaws.com/fcp-indi/data/Projects/ABIDE_Initiative/Outputs/cpac/nofilt_noglobal/rois_ho/Olin_0050103_rois_ho.1D ...\n"
     ]
    },
    {
     "name": "stderr",
     "output_type": "stream",
     "text": [
      "Downloaded 212992 of 234023 bytes (91.0%,    0.1s remaining) ...done. (2 seconds, 0 min)\n"
     ]
    },
    {
     "name": "stdout",
     "output_type": "stream",
     "text": [
      "Downloading data from https://s3.amazonaws.com/fcp-indi/data/Projects/ABIDE_Initiative/Outputs/cpac/nofilt_noglobal/rois_ho/Olin_0050104_rois_ho.1D ...\n"
     ]
    },
    {
     "name": "stderr",
     "output_type": "stream",
     "text": [
      "Downloaded 180224 of 227199 bytes (79.3%,    0.3s remaining) ...done. (3 seconds, 0 min)\n"
     ]
    },
    {
     "name": "stdout",
     "output_type": "stream",
     "text": [
      "Downloading data from https://s3.amazonaws.com/fcp-indi/data/Projects/ABIDE_Initiative/Outputs/cpac/nofilt_noglobal/rois_ho/Olin_0050105_rois_ho.1D ...\n"
     ]
    },
    {
     "name": "stderr",
     "output_type": "stream",
     "text": [
      "Downloaded 131072 of 229930 bytes (57.0%,    0.8s remaining) ...done. (2 seconds, 0 min)\n"
     ]
    },
    {
     "name": "stdout",
     "output_type": "stream",
     "text": [
      "Downloading data from https://s3.amazonaws.com/fcp-indi/data/Projects/ABIDE_Initiative/Outputs/cpac/nofilt_noglobal/rois_ho/Olin_0050106_rois_ho.1D ...\n"
     ]
    },
    {
     "name": "stderr",
     "output_type": "stream",
     "text": [
      "Downloaded 180224 of 232384 bytes (77.6%,    0.3s remaining) ...done. (3 seconds, 0 min)\n"
     ]
    },
    {
     "name": "stdout",
     "output_type": "stream",
     "text": [
      "Downloading data from https://s3.amazonaws.com/fcp-indi/data/Projects/ABIDE_Initiative/Outputs/cpac/nofilt_noglobal/rois_ho/Olin_0050107_rois_ho.1D ...\n"
     ]
    },
    {
     "name": "stderr",
     "output_type": "stream",
     "text": [
      "Downloaded 212992 of 228936 bytes (93.0%,    0.1s remaining) ...done. (3 seconds, 0 min)\n"
     ]
    },
    {
     "name": "stdout",
     "output_type": "stream",
     "text": [
      "Downloading data from https://s3.amazonaws.com/fcp-indi/data/Projects/ABIDE_Initiative/Outputs/cpac/nofilt_noglobal/rois_ho/Olin_0050109_rois_ho.1D ...\n"
     ]
    },
    {
     "name": "stderr",
     "output_type": "stream",
     "text": [
      "Downloaded 81920 of 234055 bytes (35.0%,    2.0s remaining) ...done. (3 seconds, 0 min)\n"
     ]
    },
    {
     "name": "stdout",
     "output_type": "stream",
     "text": [
      "Downloading data from https://s3.amazonaws.com/fcp-indi/data/Projects/ABIDE_Initiative/Outputs/cpac/nofilt_noglobal/rois_ho/Olin_0050110_rois_ho.1D ...\n"
     ]
    },
    {
     "name": "stderr",
     "output_type": "stream",
     "text": [
      "Downloaded 90112 of 232304 bytes (38.8%,    1.8s remaining) ...done. (4 seconds, 0 min)\n"
     ]
    },
    {
     "name": "stdout",
     "output_type": "stream",
     "text": [
      "Downloading data from https://s3.amazonaws.com/fcp-indi/data/Projects/ABIDE_Initiative/Outputs/cpac/nofilt_noglobal/rois_ho/Olin_0050111_rois_ho.1D ...\n"
     ]
    },
    {
     "name": "stderr",
     "output_type": "stream",
     "text": [
      "Downloaded 212992 of 229615 bytes (92.8%,    0.1s remaining) ...done. (2 seconds, 0 min)\n"
     ]
    },
    {
     "name": "stdout",
     "output_type": "stream",
     "text": [
      "Downloading data from https://s3.amazonaws.com/fcp-indi/data/Projects/ABIDE_Initiative/Outputs/cpac/nofilt_noglobal/rois_ho/Olin_0050112_rois_ho.1D ...\n"
     ]
    },
    {
     "name": "stderr",
     "output_type": "stream",
     "text": [
      "Downloaded 180224 of 232915 bytes (77.4%,    0.4s remaining) ...done. (3 seconds, 0 min)\n"
     ]
    },
    {
     "name": "stdout",
     "output_type": "stream",
     "text": [
      "Downloading data from https://s3.amazonaws.com/fcp-indi/data/Projects/ABIDE_Initiative/Outputs/cpac/nofilt_noglobal/rois_ho/Olin_0050113_rois_ho.1D ...\n"
     ]
    },
    {
     "name": "stderr",
     "output_type": "stream",
     "text": [
      "Downloaded 221184 of 229821 bytes (96.2%,    0.0s remaining) ...done. (3 seconds, 0 min)\n"
     ]
    },
    {
     "name": "stdout",
     "output_type": "stream",
     "text": [
      "Downloading data from https://s3.amazonaws.com/fcp-indi/data/Projects/ABIDE_Initiative/Outputs/cpac/nofilt_noglobal/rois_ho/Olin_0050114_rois_ho.1D ...\n"
     ]
    },
    {
     "name": "stderr",
     "output_type": "stream",
     "text": [
      "Downloaded 81920 of 229769 bytes (35.7%,    2.2s remaining) ...done. (3 seconds, 0 min)\n"
     ]
    },
    {
     "name": "stdout",
     "output_type": "stream",
     "text": [
      "Downloading data from https://s3.amazonaws.com/fcp-indi/data/Projects/ABIDE_Initiative/Outputs/cpac/nofilt_noglobal/rois_ho/Olin_0050115_rois_ho.1D ...\n"
     ]
    },
    {
     "name": "stderr",
     "output_type": "stream",
     "text": [
      "Downloaded 90112 of 231186 bytes (39.0%,    2.0s remaining) ...done. (4 seconds, 0 min)\n"
     ]
    },
    {
     "name": "stdout",
     "output_type": "stream",
     "text": [
      "Downloading data from https://s3.amazonaws.com/fcp-indi/data/Projects/ABIDE_Initiative/Outputs/cpac/nofilt_noglobal/rois_ho/Olin_0050116_rois_ho.1D ...\n"
     ]
    },
    {
     "name": "stderr",
     "output_type": "stream",
     "text": [
      "Downloaded 212992 of 231389 bytes (92.0%,    0.1s remaining) ...done. (3 seconds, 0 min)\n"
     ]
    },
    {
     "name": "stdout",
     "output_type": "stream",
     "text": [
      "Downloading data from https://s3.amazonaws.com/fcp-indi/data/Projects/ABIDE_Initiative/Outputs/cpac/nofilt_noglobal/rois_ho/Olin_0050117_rois_ho.1D ...\n"
     ]
    },
    {
     "name": "stderr",
     "output_type": "stream",
     "text": [
      "Downloaded 98304 of 230339 bytes (42.7%,    1.4s remaining) ...done. (3 seconds, 0 min)\n"
     ]
    },
    {
     "name": "stdout",
     "output_type": "stream",
     "text": [
      "Downloading data from https://s3.amazonaws.com/fcp-indi/data/Projects/ABIDE_Initiative/Outputs/cpac/nofilt_noglobal/rois_ho/Olin_0050118_rois_ho.1D ...\n"
     ]
    },
    {
     "name": "stderr",
     "output_type": "stream",
     "text": [
      "Downloaded 221184 of 230757 bytes (95.9%,    0.0s remaining) ...done. (2 seconds, 0 min)\n"
     ]
    },
    {
     "name": "stdout",
     "output_type": "stream",
     "text": [
      "Downloading data from https://s3.amazonaws.com/fcp-indi/data/Projects/ABIDE_Initiative/Outputs/cpac/nofilt_noglobal/rois_ho/Olin_0050119_rois_ho.1D ...\n"
     ]
    },
    {
     "name": "stderr",
     "output_type": "stream",
     "text": [
      "Downloaded 106496 of 230461 bytes (46.2%,    1.2s remaining) ...done. (3 seconds, 0 min)\n"
     ]
    },
    {
     "name": "stdout",
     "output_type": "stream",
     "text": [
      "Downloading data from https://s3.amazonaws.com/fcp-indi/data/Projects/ABIDE_Initiative/Outputs/cpac/nofilt_noglobal/rois_ho/Olin_0050120_rois_ho.1D ...\n"
     ]
    },
    {
     "name": "stderr",
     "output_type": "stream",
     "text": [
      "Downloaded 221184 of 230930 bytes (95.8%,    0.0s remaining) ...done. (3 seconds, 0 min)\n"
     ]
    },
    {
     "name": "stdout",
     "output_type": "stream",
     "text": [
      "Downloading data from https://s3.amazonaws.com/fcp-indi/data/Projects/ABIDE_Initiative/Outputs/cpac/nofilt_noglobal/rois_ho/Olin_0050121_rois_ho.1D ...\n"
     ]
    },
    {
     "name": "stderr",
     "output_type": "stream",
     "text": [
      " ...done. (2 seconds, 0 min)\n"
     ]
    },
    {
     "name": "stdout",
     "output_type": "stream",
     "text": [
      "Downloading data from https://s3.amazonaws.com/fcp-indi/data/Projects/ABIDE_Initiative/Outputs/cpac/nofilt_noglobal/rois_ho/Olin_0050122_rois_ho.1D ...\n"
     ]
    },
    {
     "name": "stderr",
     "output_type": "stream",
     "text": [
      "Downloaded 131072 of 230852 bytes (56.8%,    0.9s remaining) ...done. (3 seconds, 0 min)\n"
     ]
    },
    {
     "name": "stdout",
     "output_type": "stream",
     "text": [
      "Downloading data from https://s3.amazonaws.com/fcp-indi/data/Projects/ABIDE_Initiative/Outputs/cpac/nofilt_noglobal/rois_ho/Olin_0050123_rois_ho.1D ...\n"
     ]
    },
    {
     "name": "stderr",
     "output_type": "stream",
     "text": [
      "Downloaded 114688 of 240464 bytes (47.7%,    3.7s remaining) ...done. (6 seconds, 0 min)\n"
     ]
    },
    {
     "name": "stdout",
     "output_type": "stream",
     "text": [
      "Downloading data from https://s3.amazonaws.com/fcp-indi/data/Projects/ABIDE_Initiative/Outputs/cpac/nofilt_noglobal/rois_ho/Olin_0050124_rois_ho.1D ...\n"
     ]
    },
    {
     "name": "stderr",
     "output_type": "stream",
     "text": [
      "Downloaded 147456 of 231817 bytes (63.6%,    0.7s remaining) ...done. (3 seconds, 0 min)\n"
     ]
    },
    {
     "name": "stdout",
     "output_type": "stream",
     "text": [
      "Downloading data from https://s3.amazonaws.com/fcp-indi/data/Projects/ABIDE_Initiative/Outputs/cpac/nofilt_noglobal/rois_ho/Olin_0050125_rois_ho.1D ...\n"
     ]
    },
    {
     "name": "stderr",
     "output_type": "stream",
     "text": [
      "Downloaded 212992 of 226471 bytes (94.0%,    0.1s remaining) ...done. (3 seconds, 0 min)\n"
     ]
    },
    {
     "name": "stdout",
     "output_type": "stream",
     "text": [
      "Downloading data from https://s3.amazonaws.com/fcp-indi/data/Projects/ABIDE_Initiative/Outputs/cpac/nofilt_noglobal/rois_ho/Olin_0050126_rois_ho.1D ...\n"
     ]
    },
    {
     "name": "stderr",
     "output_type": "stream",
     "text": [
      "Downloaded 180224 of 231714 bytes (77.8%,    1.4s remaining) ...done. (7 seconds, 0 min)\n"
     ]
    },
    {
     "name": "stdout",
     "output_type": "stream",
     "text": [
      "Downloading data from https://s3.amazonaws.com/fcp-indi/data/Projects/ABIDE_Initiative/Outputs/cpac/nofilt_noglobal/rois_ho/Olin_0050127_rois_ho.1D ...\n"
     ]
    },
    {
     "name": "stderr",
     "output_type": "stream",
     "text": [
      "Downloaded 106496 of 231549 bytes (46.0%,    1.2s remaining) ...done. (3 seconds, 0 min)\n"
     ]
    },
    {
     "name": "stdout",
     "output_type": "stream",
     "text": [
      "Downloading data from https://s3.amazonaws.com/fcp-indi/data/Projects/ABIDE_Initiative/Outputs/cpac/nofilt_noglobal/rois_ho/Olin_0050128_rois_ho.1D ...\n"
     ]
    },
    {
     "name": "stderr",
     "output_type": "stream",
     "text": [
      "Downloaded 180224 of 231087 bytes (78.0%,    0.3s remaining) ...done. (3 seconds, 0 min)\n"
     ]
    },
    {
     "name": "stdout",
     "output_type": "stream",
     "text": [
      "Downloading data from https://s3.amazonaws.com/fcp-indi/data/Projects/ABIDE_Initiative/Outputs/cpac/nofilt_noglobal/rois_ho/Olin_0050129_rois_ho.1D ...\n"
     ]
    },
    {
     "name": "stderr",
     "output_type": "stream",
     "text": [
      "Downloaded 139264 of 231945 bytes (60.0%,    0.7s remaining) ...done. (3 seconds, 0 min)\n"
     ]
    },
    {
     "name": "stdout",
     "output_type": "stream",
     "text": [
      "Downloading data from https://s3.amazonaws.com/fcp-indi/data/Projects/ABIDE_Initiative/Outputs/cpac/nofilt_noglobal/rois_ho/Olin_0050130_rois_ho.1D ...\n"
     ]
    },
    {
     "name": "stderr",
     "output_type": "stream",
     "text": [
      "Downloaded 180224 of 227928 bytes (79.1%,    0.3s remaining) ...done. (3 seconds, 0 min)\n"
     ]
    },
    {
     "name": "stdout",
     "output_type": "stream",
     "text": [
      "Downloading data from https://s3.amazonaws.com/fcp-indi/data/Projects/ABIDE_Initiative/Outputs/cpac/nofilt_noglobal/rois_ho/Olin_0050131_rois_ho.1D ...\n"
     ]
    },
    {
     "name": "stderr",
     "output_type": "stream",
     "text": [
      "Downloaded 139264 of 227508 bytes (61.2%,    0.8s remaining) ...done. (3 seconds, 0 min)\n"
     ]
    },
    {
     "name": "stdout",
     "output_type": "stream",
     "text": [
      "Downloading data from https://s3.amazonaws.com/fcp-indi/data/Projects/ABIDE_Initiative/Outputs/cpac/nofilt_noglobal/rois_ho/Olin_0050132_rois_ho.1D ...\n"
     ]
    },
    {
     "name": "stderr",
     "output_type": "stream",
     "text": [
      "Downloaded 106496 of 229308 bytes (46.4%,    1.5s remaining) ...done. (3 seconds, 0 min)\n"
     ]
    },
    {
     "name": "stdout",
     "output_type": "stream",
     "text": [
      "Downloading data from https://s3.amazonaws.com/fcp-indi/data/Projects/ABIDE_Initiative/Outputs/cpac/nofilt_noglobal/rois_ho/Olin_0050133_rois_ho.1D ...\n"
     ]
    },
    {
     "name": "stderr",
     "output_type": "stream",
     "text": [
      "Downloaded 212992 of 231668 bytes (91.9%,    0.2s remaining) ...done. (3 seconds, 0 min)\n"
     ]
    },
    {
     "name": "stdout",
     "output_type": "stream",
     "text": [
      "Downloading data from https://s3.amazonaws.com/fcp-indi/data/Projects/ABIDE_Initiative/Outputs/cpac/nofilt_noglobal/rois_ho/Olin_0050134_rois_ho.1D ...\n"
     ]
    },
    {
     "name": "stderr",
     "output_type": "stream",
     "text": [
      "Downloaded 90112 of 230540 bytes (39.1%,    1.6s remaining) ...done. (3 seconds, 0 min)\n"
     ]
    },
    {
     "name": "stdout",
     "output_type": "stream",
     "text": [
      "Downloading data from https://s3.amazonaws.com/fcp-indi/data/Projects/ABIDE_Initiative/Outputs/cpac/nofilt_noglobal/rois_ho/Olin_0050135_rois_ho.1D ...\n"
     ]
    },
    {
     "name": "stderr",
     "output_type": "stream",
     "text": [
      "Downloaded 90112 of 234032 bytes (38.5%,    1.6s remaining) ...done. (4 seconds, 0 min)\n"
     ]
    },
    {
     "name": "stdout",
     "output_type": "stream",
     "text": [
      "Downloading data from https://s3.amazonaws.com/fcp-indi/data/Projects/ABIDE_Initiative/Outputs/cpac/nofilt_noglobal/rois_ho/Olin_0050136_rois_ho.1D ...\n"
     ]
    },
    {
     "name": "stderr",
     "output_type": "stream",
     "text": [
      "Downloaded 139264 of 231786 bytes (60.1%,    0.8s remaining) ...done. (3 seconds, 0 min)\n"
     ]
    },
    {
     "name": "stdout",
     "output_type": "stream",
     "text": [
      "Downloading data from https://s3.amazonaws.com/fcp-indi/data/Projects/ABIDE_Initiative/Outputs/cpac/nofilt_noglobal/rois_ho/OHSU_0050142_rois_ho.1D ...\n"
     ]
    },
    {
     "name": "stderr",
     "output_type": "stream",
     "text": [
      " ...done. (2 seconds, 0 min)\n"
     ]
    },
    {
     "name": "stdout",
     "output_type": "stream",
     "text": [
      "Downloading data from https://s3.amazonaws.com/fcp-indi/data/Projects/ABIDE_Initiative/Outputs/cpac/nofilt_noglobal/rois_ho/OHSU_0050143_rois_ho.1D ...\n"
     ]
    },
    {
     "name": "stderr",
     "output_type": "stream",
     "text": [
      "Downloaded 73728 of 85850 bytes (85.9%,    0.4s remaining) ...done. (4 seconds, 0 min)\n"
     ]
    },
    {
     "name": "stdout",
     "output_type": "stream",
     "text": [
      "Downloading data from https://s3.amazonaws.com/fcp-indi/data/Projects/ABIDE_Initiative/Outputs/cpac/nofilt_noglobal/rois_ho/OHSU_0050144_rois_ho.1D ...\n"
     ]
    },
    {
     "name": "stderr",
     "output_type": "stream",
     "text": [
      "Downloaded 40960 of 85737 bytes (47.8%,    1.6s remaining) ...done. (4 seconds, 0 min)\n"
     ]
    },
    {
     "name": "stdout",
     "output_type": "stream",
     "text": [
      "Downloading data from https://s3.amazonaws.com/fcp-indi/data/Projects/ABIDE_Initiative/Outputs/cpac/nofilt_noglobal/rois_ho/OHSU_0050145_rois_ho.1D ...\n"
     ]
    },
    {
     "name": "stderr",
     "output_type": "stream",
     "text": [
      " ...done. (2 seconds, 0 min)\n"
     ]
    },
    {
     "name": "stdout",
     "output_type": "stream",
     "text": [
      "Downloading data from https://s3.amazonaws.com/fcp-indi/data/Projects/ABIDE_Initiative/Outputs/cpac/nofilt_noglobal/rois_ho/OHSU_0050146_rois_ho.1D ...\n"
     ]
    },
    {
     "name": "stderr",
     "output_type": "stream",
     "text": [
      " ...done. (2 seconds, 0 min)\n"
     ]
    },
    {
     "name": "stdout",
     "output_type": "stream",
     "text": [
      "Downloading data from https://s3.amazonaws.com/fcp-indi/data/Projects/ABIDE_Initiative/Outputs/cpac/nofilt_noglobal/rois_ho/OHSU_0050147_rois_ho.1D ...\n"
     ]
    },
    {
     "name": "stderr",
     "output_type": "stream",
     "text": [
      " ...done. (2 seconds, 0 min)\n"
     ]
    },
    {
     "name": "stdout",
     "output_type": "stream",
     "text": [
      "Downloading data from https://s3.amazonaws.com/fcp-indi/data/Projects/ABIDE_Initiative/Outputs/cpac/nofilt_noglobal/rois_ho/OHSU_0050148_rois_ho.1D ...\n"
     ]
    },
    {
     "name": "stderr",
     "output_type": "stream",
     "text": [
      "Downloaded 73728 of 86413 bytes (85.3%,    0.4s remaining) ...done. (4 seconds, 0 min)\n"
     ]
    },
    {
     "name": "stdout",
     "output_type": "stream",
     "text": [
      "Downloading data from https://s3.amazonaws.com/fcp-indi/data/Projects/ABIDE_Initiative/Outputs/cpac/nofilt_noglobal/rois_ho/OHSU_0050149_rois_ho.1D ...\n"
     ]
    },
    {
     "name": "stderr",
     "output_type": "stream",
     "text": [
      " ...done. (2 seconds, 0 min)\n"
     ]
    },
    {
     "name": "stdout",
     "output_type": "stream",
     "text": [
      "Downloading data from https://s3.amazonaws.com/fcp-indi/data/Projects/ABIDE_Initiative/Outputs/cpac/nofilt_noglobal/rois_ho/OHSU_0050150_rois_ho.1D ...\n"
     ]
    },
    {
     "name": "stderr",
     "output_type": "stream",
     "text": [
      " ...done. (3 seconds, 0 min)\n"
     ]
    },
    {
     "name": "stdout",
     "output_type": "stream",
     "text": [
      "Downloading data from https://s3.amazonaws.com/fcp-indi/data/Projects/ABIDE_Initiative/Outputs/cpac/nofilt_noglobal/rois_ho/OHSU_0050152_rois_ho.1D ...\n"
     ]
    },
    {
     "name": "stderr",
     "output_type": "stream",
     "text": [
      " ...done. (2 seconds, 0 min)\n"
     ]
    },
    {
     "name": "stdout",
     "output_type": "stream",
     "text": [
      "Computing scores for model: 'Logistic no PCA'\n",
      "Computing scores for model: 'Dummy'\n",
      "                 fit_time  score_time  test_score\n",
      "model                                            \n",
      "Dummy            0.098802    0.025503        0.56\n",
      "Logistic no PCA  1.342490    0.025521        0.87\n"
     ]
    },
    {
     "data": {
      "image/png": "[encoded data removed]",
      "text/plain": [
       "<Figure size 432x288 with 1 Axes>"
      ]
     },
     "metadata": {
      "needs_background": "light"
     },
     "output_type": "display_data"
    }
   ],
   "source": [
    "X, y = load_timeseries_and_site()\n",
    "models = prepare_pipelines()\n",
    "all_scores = compute_cv_scores(models, X, y)\n",
    "print(all_scores.groupby(\"model\").mean())\n",
    "sns.stripplot(data=all_scores, x=\"test_score\", y=\"model\")\n",
    "plt.tight_layout()\n",
    "plt.show()"
   ]
  }
 ],
 "metadata": {
  "kernelspec": {
   "display_name": "Python 3",
   "language": "python",
   "name": "python3"
  },
  "language_info": {
   "codemirror_mode": {
    "name": "ipython",
    "version": 3
   },
   "file_extension": ".py",
   "mimetype": "text/x-python",
   "name": "python",
   "nbconvert_exporter": "python",
   "pygments_lexer": "ipython3",
   "version": "3.10.0"
  }
 },
 "nbformat": 4,
 "nbformat_minor": 4
}
