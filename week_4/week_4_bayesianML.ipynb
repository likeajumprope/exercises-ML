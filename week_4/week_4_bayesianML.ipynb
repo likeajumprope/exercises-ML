{
 "cells": [
  {
   "cell_type": "markdown",
   "metadata": {},
   "source": [
    "# Bayesian ML\n",
    "\n",
    "**Created**: 03/13/2022  \n",
    "**Author**: Gareth Harman  \n",
    "**Entity**: ReproNim \n",
    "\n",
    "### Module Imports"
   ]
  },
  {
   "cell_type": "code",
   "execution_count": 2,
   "metadata": {},
   "outputs": [],
   "source": [
    "import numpy as np\n",
    "import matplotlib.pyplot as plt\n",
    "import random"
   ]
  },
  {
   "cell_type": "markdown",
   "metadata": {},
   "source": [
    "## Problem 1: Estimating the Uniform Distribution\n",
    "\n",
    "Lets create a random uniform distribution with bounds,\n",
    "\n",
    "$$a = 40$$\n",
    "$$b = 100$$\n",
    "\n",
    "What is the mean and variance of this distribution?\n",
    "\n",
    "\n"
   ]
  },
  {
   "cell_type": "code",
   "execution_count": 28,
   "metadata": {},
   "outputs": [
    {
     "name": "stdout",
     "output_type": "stream",
     "text": [
      "70.0\n",
      "17.320508075688775\n"
     ]
    }
   ],
   "source": [
    "a= 40\n",
    "b=100\n",
    "rng = np.random.default_rng(12345)\n",
    "rints = rng.integers(low=a, high=100, size=1000)\n",
    "#print(rints)\n",
    "\n",
    "mean = (a+b)/2\n",
    "print(mean)\n",
    "var =np.sqrt((b-a)**2/12)\n",
    "print(var)"
   ]
  },
  {
   "cell_type": "markdown",
   "metadata": {},
   "source": [
    "- Draw 1000 samples from this distribution (without using numpy.random.uniform, but can use random.random to generate float between 0-1)\n",
    "- Plot this distribution and find the mean, std of this sampling \n",
    "\n",
    "**Your sampled mean/std should roughly match the theoretical mean/std**\n",
    "\n",
    "Play around with the number of samples we draw, what do you notice?\n",
    "    - This is a very important concept referred to as the [central limit theorem](https://en.wikipedia.org/wiki/Central_limit_theorem)"
   ]
  },
  {
   "cell_type": "code",
   "execution_count": 37,
   "metadata": {},
   "outputs": [
    {
     "name": "stdout",
     "output_type": "stream",
     "text": [
      "69.029\n",
      "16.99941643116022\n"
     ]
    },
    {
     "data": {
      "image/png": "[encoded data removed]",
      "text/plain": [
       "<Figure size 432x288 with 1 Axes>"
      ]
     },
     "metadata": {
      "needs_background": "light"
     },
     "output_type": "display_data"
    }
   ],
   "source": [
    "rng = np.random.default_rng(12345)\n",
    "rints = rng.integers(low=a, high=100, size=1000)\n",
    "plt.hist(rints)\n",
    "\n",
    "mean= sum(rints)/len(rints)\n",
    "print(mean)\n",
    "\n",
    "std = np.sqrt(np.sum(np.subtract(rints, mean)**2)/len(rints))\n",
    "print(std)\n"
   ]
  },
  {
   "cell_type": "markdown",
   "metadata": {},
   "source": [
    "\n",
    "# Problem 2: The PDF and CDF\n",
    "\n",
    "## The Probability Density Function\n",
    "\n",
    "**The PDF is a function that describes the probability that a random variable is equal to $X$**\n",
    "\n",
    "- $\\int{PDF} = 1$\n",
    "\n",
    "## The Cumulative Distribution Function\n",
    "\n",
    "**The CDF is the probability that random variable values less than or equal to $X$**\n",
    "\n",
    "- This function is monotonic increasing function that arrives at 1\n",
    "\n",
    "**Let's visualize these and discuss their properties using** `scipy.stats.norm()`\n",
    "\n",
    "- This creates an instance of a distribution given some value for $\\mu$ and $\\sigma$\n",
    "- This class has function attributes that allow us to access the `.cdf()` and `.pdf()`\n",
    "\n",
    "So what questions could we ask here?\n",
    "\n",
    "Given, $\\mathcal{N}\\left(\\mu = 0, \\sigma^{2} = 1\\right)$\n",
    "\n",
    "__Problems__\n",
    "1. What if I wanted to know the probability that a random variable $X = .003$?\n",
    "2. What if I wanted to know the probability that a random variable $X \\le -2$?\n",
    "3. What if I wanted to know the probability that a random variable $X \\ge 1.25$?"
   ]
  },
  {
   "cell_type": "code",
   "execution_count": 38,
   "metadata": {},
   "outputs": [
    {
     "ename": "SyntaxError",
     "evalue": "invalid syntax (2998349778.py, line 9)",
     "output_type": "error",
     "traceback": [
      "\u001b[0;36m  Input \u001b[0;32mIn [38]\u001b[0;36m\u001b[0m\n\u001b[0;31m    dist =\u001b[0m\n\u001b[0m           ^\u001b[0m\n\u001b[0;31mSyntaxError\u001b[0m\u001b[0;31m:\u001b[0m invalid syntax\n"
     ]
    }
   ],
   "source": [
    "\n",
    "# YOU CODE HERE\n",
    "\n",
    "from scipy.stats import norm\n",
    "\n",
    "mu = _\n",
    "std = _\n",
    "\n",
    "# Create the distribution\n",
    "dist = \n",
    "\n",
    "# Range over which we access the pdf/cdf\n",
    "x = np.linspace(-5, 5, 500)\n",
    "\n",
    "# Obtain the pdf over this range of x\n",
    "pdf = \n",
    "# Obtain the cdf over this range of x\n",
    "cdf = \n",
    "\n",
    "# Plot this\n",
    "fig = plt.figure(figsize = (10, 8))\n",
    "\n",
    "prob1 = \n",
    "prob2 = \n",
    "prob3 = \n",
    "\n",
    "# Answers to the problems\n",
    "print(f'Prob 1: {prob1:.3f} Prob 2: {prob2:.3f} Prob 3: {prob3:.3f}')\n",
    "\n",
    "# Plot this\n",
    "fig = plt.figure(figsize = (10, 8))\n",
    "plt.plot(x, pdf, color = 'green', alpha = .4, linewidth = 5, label = 'PDF')\n",
    "plt.plot(x, cdf, color = 'green', alpha = .4, linewidth = 2, linestyle = '--', label = 'CDF')\n",
    "plt.vlines(x = .003, ymin = 0, ymax = 1, linewidth = 3, linestyle = '--', color = 'k', label = 'Prob 1')\n",
    "plt.vlines(x = -2, ymin = 0, ymax = 1, linewidth = 3, linestyle = '--', color = 'r', label = 'Prob 2')\n",
    "plt.vlines(x = 1.25, ymin = 0, ymax = 1, linewidth = 3, linestyle = '--', color = 'r', label = 'Prob 3')\n",
    "plt.legend()\n",
    "plt.show()"
   ]
  },
  {
   "cell_type": "markdown",
   "metadata": {},
   "source": [
    "# Problem 3: The Joint Distribution\n",
    "\n",
    "Here we are going to visualize the differences between,\n",
    "\n",
    "1. Two **independent** Gaussian RVs \n",
    "2. Two **correlated** Gaussian RVs\n",
    "\n",
    "### Normal Probability Density Function\n",
    "\n",
    "Remember the pdf of the normal distribution is given by equation 1 below\n",
    "\n",
    "**Equation 1:** Univariate Gaussian$$PDF=\\frac{1}{\\sigma \\sqrt{2 \\pi}} e^{-\\frac{1}{2}\\left(\\frac{x-\\mu}{\\sigma}\\right)^{2}}$$\n",
    "\n",
    "**Equation 2:** Multivariate Gaussian$$\n",
    "PDF=\\operatorname{det}(2 \\pi \\mathbf{\\Sigma})^{-\\frac{1}{2}} e^{-\\frac{1}{2}(\\mathbf{x}-\\boldsymbol{\\mu})^{\\top} \\mathbf{\\Sigma}^{-1}(\\mathbf{x}-\\boldsymbol{\\mu})}\n",
    "$$\n",
    "\n",
    "**Note:** This only exists when our covariance matrix **($\\Sigma$)** is [positive definite](https://en.wikipedia.org/wiki/Definite_matrix)\n",
    "\n",
    "However, for time, we are not going to write this function ourselves we can use,\n",
    "\n",
    "- `scipy.stats.multivariate_normal()`\n",
    "- numpy also has `numpy.random.multivariate_normal()`\n",
    "\n",
    "First, we set up some functions to generate a mesh grid (2D) over which to generate our PDF and plot our outcome"
   ]
  },
  {
   "cell_type": "code",
   "execution_count": null,
   "metadata": {},
   "outputs": [],
   "source": [
    "\n",
    "def genMesh(lb, ub, n):\n",
    "\n",
    "    # Two linspace vectors\n",
    "    x = np.linspace(lb, ub, n)\n",
    "    y = np.linspace(lb, ub, n)\n",
    "    \n",
    "    # These will be our X and Y coordinates for plotting\n",
    "    X, Y = np.meshgrid(x, y)\n",
    "    \n",
    "    # This is the matrix over which we generate our PDF\n",
    "    pos = np.zeros((n, n, 2))\n",
    "    pos[:, :, 0] = X; pos[:, :, 1] = Y\n",
    "    \n",
    "    return X, Y, pos\n",
    "\n",
    "\n",
    "def plot_multivariate_normal(X, Y, Z, lb = -5, ub = 5, cmap = 'coolwarm'):\n",
    "    \n",
    "    # Instantiate plot\n",
    "    fig = plt.figure(figsize=(20,12))\n",
    "    ax = fig.add_subplot(111, projection='3d')\n",
    "\n",
    "    # Surface Plot\n",
    "    ax.plot_surface(X, Y, Z, rstride = 8, cstride = 8, alpha = 0.25, cmap = cmap)\n",
    "    \n",
    "    # Contour plots for density, X and Y\n",
    "    ax.contourf(X, Y, Z, zdir = 'z', offset = np.min(Z), alpha = .4, cmap = cmap)\n",
    "    ax.contourf(X, Y, Z, zdir = 'x', offset = np.min(X), cmap = 'binary', levels = 1)\n",
    "    ax.contourf(X, Y, Z, zdir = 'y', offset = np.max(Y), cmap = 'binary', levels = 1)\n",
    "    \n",
    "    # Fix labels\n",
    "    ax.grid(False)\n",
    "    ax.set_xlabel('Distr(X)'); ax.set_xlim(lb, ub)\n",
    "    ax.set_ylabel('Distr(Y)'); ax.set_ylim(lb, ub)\n",
    "    ax.set_zlim(np.min(Z), np.max(Z))\n",
    "    \n",
    "    #ax.set_title('Multivariate Gaussian')\n",
    "    ax.view_init(25, -25)\n",
    "    plt.show()\n",
    "    "
   ]
  },
  {
   "cell_type": "markdown",
   "metadata": {},
   "source": [
    "### Create two **independent** Gaussian RVs \n",
    "\n",
    "Remember that our covariance diagonal describes the std of each random variable, and the off-diagonal describes the covariance between variables\n",
    "\n",
    "Your task is just to define the covariance matrix $\\Sigma$"
   ]
  },
  {
   "cell_type": "code",
   "execution_count": null,
   "metadata": {},
   "outputs": [],
   "source": [
    "\n",
    "from scipy.stats import norm, multivariate_normal\n",
    "\n",
    "# Generate our X, Y, pos\n",
    "X, Y, pos = genMesh(-5, 5, 1000)\n",
    "\n",
    "# Create our array of mu\n",
    "mus = np.array([0.0, 1.0])\n",
    "\n",
    "# Create our covariance matrix for INDEPENDENT gaussian rvs\n",
    "cov = np.array([[], []])\n",
    "\n",
    "# Create our multivariate normal\n",
    "rv = multivariate_normal()\n",
    "Z = rv.pdf(pos)\n",
    "\n",
    "# Plot this\n",
    "plot_multivariate_normal()\n"
   ]
  },
  {
   "cell_type": "markdown",
   "metadata": {},
   "source": [
    "### Create two **correlated** Gaussian RVs"
   ]
  },
  {
   "cell_type": "code",
   "execution_count": null,
   "metadata": {},
   "outputs": [],
   "source": [
    "\n",
    "from scipy.stats import norm, multivariate_normal\n",
    "\n",
    "# Generate our X, Y, pos\n",
    "X, Y, pos = genMesh(-5, 5, 1000)\n",
    "\n",
    "# Create our array of mu\n",
    "mus = np.array([0.0, 1.0])\n",
    "\n",
    "# Create our covariance matrix for CORRELATED gaussian rvs\n",
    "cov = np.array([[], []])\n",
    "\n",
    "# Create our multivariate normal\n",
    "rv = multivariate_normal()\n",
    "Z = rv.pdf(pos)\n",
    "\n",
    "# Plot this\n",
    "plot_multivariate_normal()"
   ]
  },
  {
   "cell_type": "markdown",
   "metadata": {},
   "source": [
    "# Problem 4: Bayeisan Hypothesis Testing\n",
    "\n",
    "**Objective**\n",
    "\n",
    "Minimize the probabilty of error (comparing the posterior distribution of $H$)\n",
    "\n",
    "**Given,**\n",
    "\n",
    "Our Priors of $H_0$ and $H_1$, \n",
    "\n",
    "$$p_{H}\\left(H_{0}\\right) \\triangleq P_{0}$$\n",
    "$$p_{H}\\left(H_{1}\\right) \\triangleq P_{1}$$\n",
    "\n",
    "And our Likelihood of $H_0$ and $H_1$ given $y$, \n",
    "\n",
    "$$H_{0}: p_{y \\mid H}\\left(y \\mid H_{0}\\right)$$\n",
    "$$H_{1}: p_{y \\mid H}\\left(y \\mid H_{1}\\right)$$\n",
    "\n",
    "**Our decision rule,**\n",
    "\n",
    "$$p_{H \\mid Y}\\left(H_{1} \\mid y\\right) \\stackrel{\\hat{H}_{1}}{\\underset{\\hat{H}_{0}}{\\gtrless}} p_{H \\mid Y}\\left(H_{0} \\mid y\\right)$$\n",
    "\n",
    "Which we can rewrite as the **likelihood ratio test**,\n",
    "\n",
    "$$\n",
    "\\frac{p_{Y \\mid H}\\left(y \\mid H_{1}\\right)}{p_{Y \\mid H}\\left(y \\mid H_{0}\\right)} \\stackrel{\\hat{H}_{1}}{\\underset{\\hat{H}_{0}}{\\gtrless}} \\frac{P_{0}}{\\hat{P}_{1}}\n",
    "$$\n"
   ]
  },
  {
   "cell_type": "markdown",
   "metadata": {},
   "source": [
    "### We are going to be calculating Sensitivity and Specificity\n",
    "\n",
    "Here we can define a few things,\n",
    "\n",
    "**True Positive**\n",
    "- The probability we guessed $H_1$ given it was $H_1$\n",
    "- AUC of H1 to the right of boundary\n",
    "\n",
    "**True Negative** \n",
    "- The probability we guessed $H_0$ given it was $H_0$ \n",
    "- AUC of H0 to the left of boundary\n",
    "\n",
    "**False Positive**\n",
    "- The probability we guessed $H_0$ given it was $H_1$ \n",
    "- AUC of H0 to the right of boundary\n",
    "\n",
    "**False Negative** \n",
    "- The probability we guessed $H_1$ given it was $H_0$ \n",
    "- AUC of H1 to the left of boundary\n",
    "\n",
    "\n",
    "**Sensitivity**\n",
    "\n",
    "$$\\frac{TP}{TP + FN}$$\n",
    "\n",
    "**Specificity**\n",
    "\n",
    "$$\\frac{TN}{TN + FP}$$\n",
    "\n",
    "![](dist.png)\n"
   ]
  },
  {
   "cell_type": "markdown",
   "metadata": {},
   "source": [
    "## Your task: find sensitivity and specificity under 4 conditions\n",
    "\n",
    "1. $H_0$ and $H_1$ are equally likely and means are close (by given $\\mu$'s $\\sigma$s)\n",
    "2. $H_0$ is more likely\n",
    "3. $H_1$ is more likely\n",
    "4. $H_0$ and $H_1$ are equally likely and means are more distant\n",
    "\n",
    "#### For problems 1-3 use these parameters\n",
    "- $\\mu_1 = 0, \\mu_2 = 2$\n",
    "- $\\sigma_1 = 1, \\sigma_2 = 1$\n",
    "\n",
    "#### For problem 4 use these parameters\n",
    "- $\\mu_1 = 0, \\mu_2 = 3.5$\n",
    "- $\\sigma_1 = 1, \\sigma_2 = 1$\n",
    "    \n",
    "### REMEMBER! This is important\n",
    "\n",
    "Because $P_0 + P_1 = 1$,\n",
    "\n",
    "- $P_{Y|H(y|H_0)}$ will integrate to $P_0$ \n",
    "\n",
    "**AND**\n",
    "\n",
    "- $P_{Y|H(y|H_1)}$ will integrate to $P_1$ \n",
    "\n",
    "**This will affect our PDF/CDF!**"
   ]
  },
  {
   "cell_type": "code",
   "execution_count": null,
   "metadata": {},
   "outputs": [],
   "source": [
    "\n",
    "def plot_hypothesis(x, p0, p1, pdf_py_H0, pdf_py_H1, cdf_py_H0, cdf_py_H1, intersect_x, intersect_y):\n",
    "\n",
    "    fig, ax = plt.subplots(figsize = (10, 8))\n",
    "\n",
    "    # Plot PDFs of H0/H1\n",
    "    ax.plot(x, pdf_py_H0, color = 'purple', alpha = .4, linewidth = 5, label = 'PDF H0')\n",
    "    ax.plot(x, pdf_py_H1, color = 'green', alpha = .4, linewidth = 5, label = 'PDF H1')\n",
    "\n",
    "    # Plot CDFs of H0/H1\n",
    "    ax.plot(x, cdf_py_H0, color = 'purple', alpha = .4, linewidth = 2, linestyle = '--', label = 'CDF H0')\n",
    "    ax.plot(x, cdf_py_H1, color = 'green', alpha = .4, linewidth = 2, linestyle = '--', label = 'CDF H1')\n",
    "\n",
    "    # Plot intercept\n",
    "    ax.vlines(x = intersect_x, ymin = 0, ymax = 1, linewidth = 3, linestyle = '--', color = 'k')\n",
    "    ax.scatter(intersect_x, intersect_y, s = 75, color = 'blue', )\n",
    "    ax.legend()\n",
    "    ax.set_ylim(0, 1)\n",
    "\n",
    "    plt.show()\n",
    "    "
   ]
  },
  {
   "cell_type": "markdown",
   "metadata": {},
   "source": [
    "## Here is the function you will write that will get you the answer\n",
    "\n",
    "- Fill in the appropriate parts to correctly return sensitivity and specificity"
   ]
  },
  {
   "cell_type": "code",
   "execution_count": null,
   "metadata": {},
   "outputs": [],
   "source": [
    "\n",
    "\n",
    "def get_sens_spec(x, p0, p1, mu1, mu2, std1, std2, plot = True):\n",
    "\n",
    "    # Create distributions of Y given H0/H1\n",
    "    py_H0 = _\n",
    "    py_H1 = _\n",
    "\n",
    "    # Create the pdfs\n",
    "    pdf_py_H0 = _ * _\n",
    "    pdf_py_H1 = _ * _\n",
    "    \n",
    "    # Create the cdfs\n",
    "    cdf_py_H0 = _ * _\n",
    "    cdf_py_H1 = _ * _\n",
    "\n",
    "    # This fancy number will find us the intersectin of our two PDFs\n",
    "        # credit: https://stackoverflow.com/questions/28766692/intersection-of-two-graphs-in-python-find-the-x-value\n",
    "    intersect_ind = np.argwhere(np.diff(np.sign(pdf_py_H0 - pdf_py_H1))).flatten()\n",
    "    \n",
    "    # Get the intersections by ind \n",
    "    intersect_x = x[intersect_ind][0]\n",
    "    intersect_y = _\n",
    "\n",
    "    if plot:\n",
    "        plot_hypothesis(x, p0, p1, pdf_py_H0, pdf_py_H1, cdf_py_H0, cdf_py_H1, intersect_x, intersect_y)\n",
    "\n",
    "    # Return sensitivity, specificity\n",
    "    TP = _\n",
    "    TN = _\n",
    "    FP = _\n",
    "    FN = _\n",
    "    sens = TP/(TP + FN)\n",
    "    spec = TN/(TN + FP)\n",
    "\n",
    "    \n",
    "    print(f'Sens: {sens:.3f} Spec: {spec:.3f}\\n')\n",
    "    \n",
    "    return spec, sens\n",
    "\n"
   ]
  },
  {
   "cell_type": "markdown",
   "metadata": {},
   "source": [
    "## 1. $H_0$ and $H_1$ are equally likely"
   ]
  },
  {
   "cell_type": "code",
   "execution_count": null,
   "metadata": {},
   "outputs": [],
   "source": [
    "\n",
    "# Range of x\n",
    "x = np.linspace(-5, 5, 500)\n",
    "\n",
    "# The priors of H0/H1\n",
    "p0, p1 = _, _\n",
    "\n",
    "# Mean, std for H0/H1\n",
    "mu1, mu2 = _, _\n",
    "std1, std2 = _, _\n",
    "\n",
    "sens3, spec3 = get_sens_spec(x, p0, p1, mu1, mu2, std1, std2)\n"
   ]
  },
  {
   "cell_type": "markdown",
   "metadata": {},
   "source": [
    "## 2. $H_0$ is more likely"
   ]
  },
  {
   "cell_type": "code",
   "execution_count": null,
   "metadata": {},
   "outputs": [],
   "source": [
    "\n",
    "# Range of x\n",
    "x = np.linspace(-5, 5, 500)\n",
    "\n",
    "# The priors of H0/H1\n",
    "p0, p1 = _, _\n",
    "\n",
    "# Mean, std for H0/H1\n",
    "mu1, mu2 = _, _\n",
    "std1, std2 = _, _\n",
    "\n",
    "sens3, spec3 = get_sens_spec(x, p0, p1, mu1, mu2, std1, std2)\n"
   ]
  },
  {
   "cell_type": "markdown",
   "metadata": {},
   "source": [
    "## 3. $H_1$ is more likely"
   ]
  },
  {
   "cell_type": "code",
   "execution_count": null,
   "metadata": {},
   "outputs": [],
   "source": [
    "\n",
    "# Range of x\n",
    "x = np.linspace(-5, 5, 500)\n",
    "\n",
    "# The priors of H0/H1\n",
    "p0, p1 = _, _\n",
    "\n",
    "# Mean, std for H0/H1\n",
    "mu1, mu2 = _, _\n",
    "std1, std2 = _, _\n",
    "\n",
    "sens3, spec3 = get_sens_spec(x, p0, p1, mu1, mu2, std1, std2)\n"
   ]
  },
  {
   "cell_type": "markdown",
   "metadata": {},
   "source": [
    "## 4. $H_0$ and $H_1$ are equally likely and means are more distant"
   ]
  },
  {
   "cell_type": "code",
   "execution_count": null,
   "metadata": {},
   "outputs": [],
   "source": [
    "\n",
    "# Range of x\n",
    "x = np.linspace(-5, 5, 500)\n",
    "\n",
    "# The priors of H0/H1\n",
    "p0, p1 = _, _\n",
    "\n",
    "# Mean, std for H0/H1\n",
    "mu1, mu2 = _, _\n",
    "std1, std2 = _, _\n",
    "\n",
    "sens4, spec4 = get_sens_spec(x, p0, p1, mu1, mu2, std1, std2)\n"
   ]
  },
  {
   "cell_type": "markdown",
   "metadata": {},
   "source": [
    "## Plot our ROC curve\n",
    "\n",
    "1. What do you notice about it?\n",
    "2. Why are problems 4 and 1 different? They both have equal priors\n"
   ]
  },
  {
   "cell_type": "code",
   "execution_count": null,
   "metadata": {},
   "outputs": [],
   "source": [
    "\n",
    "fig, ax = plt.subplots(figsize = (6, 4))\n",
    "\n",
    "# Setup lines\n",
    "ax.plot(np.arange(0, 1, .01), np.arange(0, 1, .01), linewidth = 2, linestyle = '--', color = 'k')\n",
    "ax.vlines(x = 1, ymin = 0, ymax = 1, linewidth = 2, linestyle = '--', color = 'k')\n",
    "ax.hlines(y = 1, xmin = 0, xmax = 1, linewidth = 2, linestyle = '--', color = 'k')\n",
    "\n",
    "# Plot\n",
    "ax.scatter(_, _, s = 150, color = 'red', label = 'Prob 1')\n",
    "ax.scatter(_, _, s = 150, color = 'blue', label = 'Prob 2')\n",
    "ax.scatter(_, _, s = 150, color = 'orange', label = 'Prob 3')\n",
    "ax.scatter(_, _, s = 150, color = 'green', label = 'Prob 4')\n",
    "\n",
    "# Chhanges\n",
    "ax.set_title('ROC Curve')\n",
    "ax.set_xlabel('1 - Specificity')\n",
    "ax.set_ylabel('Sensitivity')\n",
    "ax.legend(loc = 'lower right')\n",
    "plt.show()\n"
   ]
  },
  {
   "cell_type": "markdown",
   "metadata": {},
   "source": [
    "# Extra Content: LMMSE estimator \n",
    "\n",
    "Here we are constructing the LMMSE estimator for jointly Gaussian random variables, assuming an increasing number of samples\n"
   ]
  },
  {
   "cell_type": "code",
   "execution_count": null,
   "metadata": {},
   "outputs": [],
   "source": [
    "import numpy as np\n",
    "from scipy.stats import norm\n",
    "import matplotlib.pyplot as plt\n",
    "\n",
    "# Our range of x\n",
    "n = np.arange(-4, 6, .01)\n",
    "\n",
    "# First distribution (prior) and pdf\n",
    "normal1 = norm(0, 1)\n",
    "f_y = normal1.pdf(n)\n",
    "\n",
    "# Second distribution and pdf\n",
    "Y = 2\n",
    "normal2 = norm(Y, 1)\n",
    "f_xy = normal2.pdf(n)\n",
    "\n",
    "# Plot these \n",
    "fig = plt.figure(figsize = (20, 8))\n",
    "\n",
    "plt.plot(n, f_y, label = 'f_X(x)', linewidth = 4, color = 'purple')\n",
    "plt.plot(n, f_xy, label = 'f_Xy(x)', linewidth = 4, color = 'green')\n",
    "plt.stem([Y], [normal2.pdf(Y)], linefmt = 'red')\n",
    "plt.legend()\n"
   ]
  },
  {
   "cell_type": "code",
   "execution_count": null,
   "metadata": {},
   "outputs": [],
   "source": [
    "\n",
    "# Reinstantiate plot\n",
    "fig = plt.figure(figsize = (20, 8))\n",
    "\n",
    "plt.plot(n, f_y, label = 'f_X(x)', linewidth = 4, color = 'purple')\n",
    "plt.plot(n, f_xy, label = 'f_Xy(x)', linewidth = 4, color = 'green')\n",
    "plt.stem([Y], [normal2.pdf(Y)])\n",
    "plt.legend()\n",
    "\n",
    "# Number of samples we will add\n",
    "N = 100\n",
    "X = Y + np.random.normal(size = N)\n",
    "X[0] = np.exp(1)\n",
    "\n",
    "# Our estimator\n",
    "Yest = np.zeros(X.shape)\n",
    "\n",
    "# Loop through our number of samples\n",
    "for i in range(N):\n",
    "        \n",
    "    C_XY = 1 + np.eye(i+1)\n",
    "    C_xy = np.ones((i+1, 1))\n",
    "    a = np.linalg.inv(C_XY) @ C_xy\n",
    "    \n",
    "    z = a.T @ X[:i+1]\n",
    "    Yest[i] = z[0]\n",
    "    \n",
    "    plt.stem([Yest[i]], [normal2.pdf(Yest[i])], linefmt = 'red')\n",
    "\n",
    "plt.show()\n",
    "    "
   ]
  }
 ],
 "metadata": {
  "kernelspec": {
   "display_name": "Python 3",
   "language": "python",
   "name": "python3"
  },
  "language_info": {
   "codemirror_mode": {
    "name": "ipython",
    "version": 3
   },
   "file_extension": ".py",
   "mimetype": "text/x-python",
   "name": "python",
   "nbconvert_exporter": "python",
   "pygments_lexer": "ipython3",
   "version": "3.8.9"
  }
 },
 "nbformat": 4,
 "nbformat_minor": 4
}
