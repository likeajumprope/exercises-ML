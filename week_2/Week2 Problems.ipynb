{
 "cells": [
  {
   "cell_type": "markdown",
   "metadata": {},
   "source": [
    "# Weekly Tutorial Problems: Week 2\n",
    "Jacob Sanz-Robinson, Meenakshi Khosla, Eric Bridgeford\n",
    "\n",
    "Welcome to the second set of tutorial problems of the ABCD ReproNim Machine Learning course! Once you complete this exercise please save your work as either a Python (.py) or a Jupyter Notebook (.ipynb) file and push your script up to your GitHub account. If you don't already have a GitHub account you can sign up for one [here](https://github.com/join). If you are not familiar with using git or GitHub, you can view our Main Course instructional video [here](https://youtu.be/SyKmry47SsY). Once you have done this, please copy and paste the link to your GitHub file [here](https://docs.google.com/forms/d/e/1FAIpQLSe01TSY4uHTRrMg01WXJH9sYG1CyuqucXlD21JwGXSvjffjTQ/viewform?usp=sf_link).\n",
    "\n",
    "Let's get started. If you aren't familiar with any of the modules we are importing for a problem, try skimming through the module documentation for hints and examples."
   ]
  },
  {
   "cell_type": "markdown",
   "metadata": {},
   "source": [
    "# Lecture 1: Supervised Machine Learning"
   ]
  },
  {
   "cell_type": "markdown",
   "metadata": {},
   "source": [
    "### Problem 1: Linear SVM\n",
    "\n",
    "We have loaded up sklearn's Iris dataset (as well as a few other sklearn modules) and wish to use a model to classify it's 3 species of flowers.\n",
    "\n",
    "**Your task:**\n",
    "\n",
    "* Using sklearn, create a pipeline that uses the StandardScaler to remove the mean and scale the data to unit variance, and then uses the LinearSVC to implement an SVM. The SVM should have hyperparameters: C=10, and hinge loss function. Fit the pipeline to the data, and cross-validate it.\n",
    "* If you wanted a non-linear kernel, you would use the \"sklearn.svm.SVC\" module instead. Have a brief glance at it's documentation and the different types of kernels you can specify as parameters (it's good to know these exist!). Optionally, implement a \"sklearn.svm.SVC\" model for the problem."
   ]
  },
  {
   "cell_type": "code",
   "execution_count": 322,
   "metadata": {},
   "outputs": [
    {
     "name": "stdout",
     "output_type": "stream",
     "text": [
      "{'fit_time': array([0.00840592, 0.00314498, 0.00406194, 0.00162315, 0.0009191 ]), 'score_time': array([0.00679588, 0.00079107, 0.00032496, 0.00050688, 0.00027394]), 'test_score': array([0.96666667, 1.        , 0.93333333, 0.86666667, 0.93333333])}\n"
     ]
    },
    {
     "name": "stderr",
     "output_type": "stream",
     "text": [
      "/Library/Frameworks/Python.framework/Versions/3.10/lib/python3.10/site-packages/sklearn/svm/_base.py:1206: ConvergenceWarning: Liblinear failed to converge, increase the number of iterations.\n",
      "  warnings.warn(\n",
      "/Library/Frameworks/Python.framework/Versions/3.10/lib/python3.10/site-packages/sklearn/svm/_base.py:1206: ConvergenceWarning: Liblinear failed to converge, increase the number of iterations.\n",
      "  warnings.warn(\n",
      "/Library/Frameworks/Python.framework/Versions/3.10/lib/python3.10/site-packages/sklearn/svm/_base.py:1206: ConvergenceWarning: Liblinear failed to converge, increase the number of iterations.\n",
      "  warnings.warn(\n",
      "/Library/Frameworks/Python.framework/Versions/3.10/lib/python3.10/site-packages/sklearn/svm/_base.py:1206: ConvergenceWarning: Liblinear failed to converge, increase the number of iterations.\n",
      "  warnings.warn(\n",
      "/Library/Frameworks/Python.framework/Versions/3.10/lib/python3.10/site-packages/sklearn/svm/_base.py:1206: ConvergenceWarning: Liblinear failed to converge, increase the number of iterations.\n",
      "  warnings.warn(\n"
     ]
    }
   ],
   "source": [
    "import numpy as np\n",
    "from sklearn import datasets\n",
    "from sklearn.pipeline import Pipeline\n",
    "from sklearn.pipeline import make_pipeline\n",
    "from sklearn.preprocessing import StandardScaler\n",
    "from sklearn.model_selection import cross_validate\n",
    "from sklearn.svm import LinearSVC\n",
    "\n",
    "iris = datasets.load_iris()\n",
    "X = iris[\"data\"][:, (2, 3)] # petal length, petal width\n",
    "y = iris[\"target\"].astype(np.float64) #3 classes of flowers.\n",
    "\n",
    "clf = make_pipeline(StandardScaler(), LinearSVC(C=10, loss=\"hinge\"))\n",
    "clf.fit(X,y)\n",
    "pipeline = cross_validate(clf, X, y)\n",
    "print(pipeline)"
   ]
  },
  {
   "cell_type": "markdown",
   "metadata": {},
   "source": [
    "### Problem 2: Tree-based model and ensembles: California housing dataset regression\n",
    "\n",
    "\n",
    "We are going to be using our new ML knowledge to try and estimate median house values in Californian housing districts using some tree-based models. The [sklearn dataset](https://scikit-learn.org/stable/datasets/real_world.html#california-housing-dataset) we will use  was derived from the 1990 U.S. census. The prices are in hundreds of thousands of dollars ($100,000).\n",
    "\n",
    "Firstly, we need to import the libraries we will be using, and download the data. If you don't recognize a module we are importing, I suggest you have a quick glance at it's documentation page!"
   ]
  },
  {
   "cell_type": "code",
   "execution_count": 323,
   "metadata": {},
   "outputs": [
    {
     "name": "stdout",
     "output_type": "stream",
     "text": [
      "X shape:  (20640, 8)\n",
      "y shape:  (20640,)\n",
      "\n",
      " Data X\n",
      "[[   8.3252       41.            6.98412698 ...    2.55555556\n",
      "    37.88       -122.23      ]\n",
      " [   8.3014       21.            6.23813708 ...    2.10984183\n",
      "    37.86       -122.22      ]\n",
      " [   7.2574       52.            8.28813559 ...    2.80225989\n",
      "    37.85       -122.24      ]\n",
      " ...\n",
      " [   1.7          17.            5.20554273 ...    2.3256351\n",
      "    39.43       -121.22      ]\n",
      " [   1.8672       18.            5.32951289 ...    2.12320917\n",
      "    39.43       -121.32      ]\n",
      " [   2.3886       16.            5.25471698 ...    2.61698113\n",
      "    39.37       -121.24      ]]\n",
      "\n",
      " Target y:\n",
      "[4.526 3.585 3.521 ... 0.923 0.847 0.894]\n"
     ]
    }
   ],
   "source": [
    "import numpy as np\n",
    "from sklearn import datasets\n",
    "from sklearn.model_selection import cross_validate\n",
    "from sklearn.tree import DecisionTreeRegressor\n",
    "from sklearn.ensemble import RandomForestRegressor\n",
    "from sklearn.ensemble import VotingRegressor\n",
    "from sklearn.linear_model import Ridge\n",
    "import pandas as pd\n",
    "\n",
    "chd = datasets.fetch_california_housing()\n",
    "X, y = chd[\"data\"], chd[\"target\"]\n",
    "\n",
    "print(\"X shape: \", X.shape)\n",
    "print(\"y shape: \", y.shape)\n",
    "print(\"\\n Data X\")\n",
    "print(X)\n",
    "print(\"\\n Target y:\")\n",
    "print(y)"
   ]
  },
  {
   "cell_type": "markdown",
   "metadata": {},
   "source": [
    "**Your task:**\n",
    "* Build a DecisionTreeRegressor and a RandomForestRegressor and cross-validate each of them on the housing data. Start by using a maximum depth of 3 for both trees, and 10 estimators for the Random Forest.\n",
    "* Try a few different settings for the parameters (or do a grid search). Report the parameters that led to the best scores.\n",
    "* Use VotingRegressor to make an ensemble that averages the output of the two tree models. Try to make the ensemble outperform all of the base models. If necessary add more models of your choice to the ensemble."
   ]
  },
  {
   "cell_type": "code",
   "execution_count": 324,
   "metadata": {},
   "outputs": [
    {
     "name": "stdout",
     "output_type": "stream",
     "text": [
      "{'fit_time': array([0.10211086, 0.08070111, 0.07771492, 0.07516026, 0.07544971]), 'score_time': array([0.00359917, 0.00065303, 0.0007031 , 0.00084972, 0.00079417]), 'test_score': array([0.38398745, 0.53219751, 0.60745192, 0.32322365, 0.53495155])}\n",
      "{'fit_time': array([5.34053493, 5.08933091, 4.93411803, 4.8689959 , 5.17955995]), 'score_time': array([0.03649688, 0.030653  , 0.04087806, 0.03145194, 0.03361416]), 'test_score': array([0.52094287, 0.67857061, 0.72688571, 0.59129337, 0.67334113])}\n",
      "{'fit_time': array([4.90386319, 4.99443984, 4.95420814, 4.92864108, 4.85129094]), 'score_time': array([0.03475595, 0.02982712, 0.0346818 , 0.03131008, 0.0342319 ]), 'test_score': array([0.60277937, 0.62687089, 0.69455311, 0.5850179 , 0.7015857 ])}\n"
     ]
    }
   ],
   "source": [
    "#parameters\n",
    "maxdepth = 10\n",
    "n_est= 100\n",
    "\n",
    "#Decision Tree\n",
    "dec_tree = DecisionTreeRegressor(criterion = \"squared_error\", max_depth=maxdepth)\n",
    "#scores_tree = dec_tree.fit(X, y)\n",
    "scores_tree= cross_validate(dec_tree, X, y)\n",
    "print(scores_tree)\n",
    "\n",
    "#Random Forest\n",
    "rand_forest = RandomForestRegressor(max_depth=maxdepth,n_estimators=n_est)\n",
    "scores_forest=cross_validate(rand_forest, X,y)\n",
    "print(scores_forest)\n",
    "\n",
    "# increaseing max_depth does seem to improve random forrst test scores drastically, but not decisim tree test scores\n",
    "# increased n_est scores improve random forest scores\n",
    "\n",
    "#additional models\n",
    "ridge_model = Ridge(alpha=0.01)\n",
    "#vote regressor\n",
    "vote_reg = VotingRegressor(estimators=[('dt', dec_tree), ('rf', rand_forest), ('r', ridge_model)])\n",
    "scores_vote = cross_validate(vote_reg, X, y)\n",
    "print(scores_vote)\n"
   ]
  },
  {
   "cell_type": "markdown",
   "metadata": {},
   "source": [
    "### Problem 3: Wine Classification\n",
    "\n",
    "Since I figure it's a good assumption that most of the students reading this [enjoy some wine](https://www.ncbi.nlm.nih.gov/pmc/articles/PMC6072905/) from time to time, this problem is about classifying different kinds of the classic fermented grape beverage. Any typos found in this question are purely incidental. \n",
    "\n",
    "I based this question on one of [Microsoft's Documentation ML Basics GitHub repo](https://github.com/MicrosoftDocs/ml-basics)'s challenges, and I highly suggest you check out their repository if you want more ML problems with solutions when you finish this notebook!\n",
    "\n",
    "We import the dataset and inspect it's contents."
   ]
  },
  {
   "cell_type": "code",
   "execution_count": 325,
   "metadata": {},
   "outputs": [
    {
     "data": {
      "text/html": [
       "<div>\n",
       "<style scoped>\n",
       "    .dataframe tbody tr th:only-of-type {\n",
       "        vertical-align: middle;\n",
       "    }\n",
       "\n",
       "    .dataframe tbody tr th {\n",
       "        vertical-align: top;\n",
       "    }\n",
       "\n",
       "    .dataframe thead th {\n",
       "        text-align: right;\n",
       "    }\n",
       "</style>\n",
       "<table border=\"1\" class=\"dataframe\">\n",
       "  <thead>\n",
       "    <tr style=\"text-align: right;\">\n",
       "      <th></th>\n",
       "      <th>alcohol</th>\n",
       "      <th>malic_acid</th>\n",
       "      <th>ash</th>\n",
       "      <th>alcalinity_of_ash</th>\n",
       "      <th>magnesium</th>\n",
       "      <th>total_phenols</th>\n",
       "      <th>flavanoids</th>\n",
       "      <th>nonflavanoid_phenols</th>\n",
       "      <th>proanthocyanins</th>\n",
       "      <th>color_intensity</th>\n",
       "      <th>hue</th>\n",
       "      <th>od280/od315_of_diluted_wines</th>\n",
       "      <th>proline</th>\n",
       "      <th>target</th>\n",
       "    </tr>\n",
       "  </thead>\n",
       "  <tbody>\n",
       "    <tr>\n",
       "      <th>15</th>\n",
       "      <td>13.63</td>\n",
       "      <td>1.81</td>\n",
       "      <td>2.70</td>\n",
       "      <td>17.2</td>\n",
       "      <td>112.0</td>\n",
       "      <td>2.85</td>\n",
       "      <td>2.91</td>\n",
       "      <td>0.30</td>\n",
       "      <td>1.46</td>\n",
       "      <td>7.300000</td>\n",
       "      <td>1.28</td>\n",
       "      <td>2.88</td>\n",
       "      <td>1310.0</td>\n",
       "      <td>0.0</td>\n",
       "    </tr>\n",
       "    <tr>\n",
       "      <th>6</th>\n",
       "      <td>14.39</td>\n",
       "      <td>1.87</td>\n",
       "      <td>2.45</td>\n",
       "      <td>14.6</td>\n",
       "      <td>96.0</td>\n",
       "      <td>2.50</td>\n",
       "      <td>2.52</td>\n",
       "      <td>0.30</td>\n",
       "      <td>1.98</td>\n",
       "      <td>5.250000</td>\n",
       "      <td>1.02</td>\n",
       "      <td>3.58</td>\n",
       "      <td>1290.0</td>\n",
       "      <td>0.0</td>\n",
       "    </tr>\n",
       "    <tr>\n",
       "      <th>59</th>\n",
       "      <td>12.37</td>\n",
       "      <td>0.94</td>\n",
       "      <td>1.36</td>\n",
       "      <td>10.6</td>\n",
       "      <td>88.0</td>\n",
       "      <td>1.98</td>\n",
       "      <td>0.57</td>\n",
       "      <td>0.28</td>\n",
       "      <td>0.42</td>\n",
       "      <td>1.950000</td>\n",
       "      <td>1.05</td>\n",
       "      <td>1.82</td>\n",
       "      <td>520.0</td>\n",
       "      <td>1.0</td>\n",
       "    </tr>\n",
       "    <tr>\n",
       "      <th>126</th>\n",
       "      <td>12.43</td>\n",
       "      <td>1.53</td>\n",
       "      <td>2.29</td>\n",
       "      <td>21.5</td>\n",
       "      <td>86.0</td>\n",
       "      <td>2.74</td>\n",
       "      <td>3.15</td>\n",
       "      <td>0.39</td>\n",
       "      <td>1.77</td>\n",
       "      <td>3.940000</td>\n",
       "      <td>0.69</td>\n",
       "      <td>2.84</td>\n",
       "      <td>352.0</td>\n",
       "      <td>1.0</td>\n",
       "    </tr>\n",
       "    <tr>\n",
       "      <th>171</th>\n",
       "      <td>12.77</td>\n",
       "      <td>2.39</td>\n",
       "      <td>2.28</td>\n",
       "      <td>19.5</td>\n",
       "      <td>86.0</td>\n",
       "      <td>1.39</td>\n",
       "      <td>0.51</td>\n",
       "      <td>0.48</td>\n",
       "      <td>0.64</td>\n",
       "      <td>9.899999</td>\n",
       "      <td>0.57</td>\n",
       "      <td>1.63</td>\n",
       "      <td>470.0</td>\n",
       "      <td>2.0</td>\n",
       "    </tr>\n",
       "    <tr>\n",
       "      <th>43</th>\n",
       "      <td>13.24</td>\n",
       "      <td>3.98</td>\n",
       "      <td>2.29</td>\n",
       "      <td>17.5</td>\n",
       "      <td>103.0</td>\n",
       "      <td>2.64</td>\n",
       "      <td>2.63</td>\n",
       "      <td>0.32</td>\n",
       "      <td>1.66</td>\n",
       "      <td>4.360000</td>\n",
       "      <td>0.82</td>\n",
       "      <td>3.00</td>\n",
       "      <td>680.0</td>\n",
       "      <td>0.0</td>\n",
       "    </tr>\n",
       "    <tr>\n",
       "      <th>26</th>\n",
       "      <td>13.39</td>\n",
       "      <td>1.77</td>\n",
       "      <td>2.62</td>\n",
       "      <td>16.1</td>\n",
       "      <td>93.0</td>\n",
       "      <td>2.85</td>\n",
       "      <td>2.94</td>\n",
       "      <td>0.34</td>\n",
       "      <td>1.45</td>\n",
       "      <td>4.800000</td>\n",
       "      <td>0.92</td>\n",
       "      <td>3.22</td>\n",
       "      <td>1195.0</td>\n",
       "      <td>0.0</td>\n",
       "    </tr>\n",
       "    <tr>\n",
       "      <th>146</th>\n",
       "      <td>13.88</td>\n",
       "      <td>5.04</td>\n",
       "      <td>2.23</td>\n",
       "      <td>20.0</td>\n",
       "      <td>80.0</td>\n",
       "      <td>0.98</td>\n",
       "      <td>0.34</td>\n",
       "      <td>0.40</td>\n",
       "      <td>0.68</td>\n",
       "      <td>4.900000</td>\n",
       "      <td>0.58</td>\n",
       "      <td>1.33</td>\n",
       "      <td>415.0</td>\n",
       "      <td>2.0</td>\n",
       "    </tr>\n",
       "    <tr>\n",
       "      <th>56</th>\n",
       "      <td>14.22</td>\n",
       "      <td>1.70</td>\n",
       "      <td>2.30</td>\n",
       "      <td>16.3</td>\n",
       "      <td>118.0</td>\n",
       "      <td>3.20</td>\n",
       "      <td>3.00</td>\n",
       "      <td>0.26</td>\n",
       "      <td>2.03</td>\n",
       "      <td>6.380000</td>\n",
       "      <td>0.94</td>\n",
       "      <td>3.31</td>\n",
       "      <td>970.0</td>\n",
       "      <td>0.0</td>\n",
       "    </tr>\n",
       "    <tr>\n",
       "      <th>128</th>\n",
       "      <td>12.37</td>\n",
       "      <td>1.63</td>\n",
       "      <td>2.30</td>\n",
       "      <td>24.5</td>\n",
       "      <td>88.0</td>\n",
       "      <td>2.22</td>\n",
       "      <td>2.45</td>\n",
       "      <td>0.40</td>\n",
       "      <td>1.90</td>\n",
       "      <td>2.120000</td>\n",
       "      <td>0.89</td>\n",
       "      <td>2.78</td>\n",
       "      <td>342.0</td>\n",
       "      <td>1.0</td>\n",
       "    </tr>\n",
       "  </tbody>\n",
       "</table>\n",
       "</div>"
      ],
      "text/plain": [
       "     alcohol  malic_acid   ash  alcalinity_of_ash  magnesium  total_phenols  \\\n",
       "15     13.63        1.81  2.70               17.2      112.0           2.85   \n",
       "6      14.39        1.87  2.45               14.6       96.0           2.50   \n",
       "59     12.37        0.94  1.36               10.6       88.0           1.98   \n",
       "126    12.43        1.53  2.29               21.5       86.0           2.74   \n",
       "171    12.77        2.39  2.28               19.5       86.0           1.39   \n",
       "43     13.24        3.98  2.29               17.5      103.0           2.64   \n",
       "26     13.39        1.77  2.62               16.1       93.0           2.85   \n",
       "146    13.88        5.04  2.23               20.0       80.0           0.98   \n",
       "56     14.22        1.70  2.30               16.3      118.0           3.20   \n",
       "128    12.37        1.63  2.30               24.5       88.0           2.22   \n",
       "\n",
       "     flavanoids  nonflavanoid_phenols  proanthocyanins  color_intensity   hue  \\\n",
       "15         2.91                  0.30             1.46         7.300000  1.28   \n",
       "6          2.52                  0.30             1.98         5.250000  1.02   \n",
       "59         0.57                  0.28             0.42         1.950000  1.05   \n",
       "126        3.15                  0.39             1.77         3.940000  0.69   \n",
       "171        0.51                  0.48             0.64         9.899999  0.57   \n",
       "43         2.63                  0.32             1.66         4.360000  0.82   \n",
       "26         2.94                  0.34             1.45         4.800000  0.92   \n",
       "146        0.34                  0.40             0.68         4.900000  0.58   \n",
       "56         3.00                  0.26             2.03         6.380000  0.94   \n",
       "128        2.45                  0.40             1.90         2.120000  0.89   \n",
       "\n",
       "     od280/od315_of_diluted_wines  proline  target  \n",
       "15                           2.88   1310.0     0.0  \n",
       "6                            3.58   1290.0     0.0  \n",
       "59                           1.82    520.0     1.0  \n",
       "126                          2.84    352.0     1.0  \n",
       "171                          1.63    470.0     2.0  \n",
       "43                           3.00    680.0     0.0  \n",
       "26                           3.22   1195.0     0.0  \n",
       "146                          1.33    415.0     2.0  \n",
       "56                           3.31    970.0     0.0  \n",
       "128                          2.78    342.0     1.0  "
      ]
     },
     "execution_count": 325,
     "metadata": {},
     "output_type": "execute_result"
    }
   ],
   "source": [
    "from sklearn.datasets import load_wine\n",
    "import pandas as pd\n",
    "import numpy as np\n",
    "\n",
    "wine = load_wine(as_frame=True)\n",
    "X, y = wine['data'].values, wine['target'].values\n",
    "\n",
    "#See features for 10 random wines\n",
    "data = pd.DataFrame(data=np.c_[wine['data'],wine['target']],columns=wine['feature_names']+['target'])\n",
    "data.sample(10)"
   ]
  },
  {
   "cell_type": "code",
   "execution_count": 326,
   "metadata": {},
   "outputs": [
    {
     "name": "stdout",
     "output_type": "stream",
     "text": [
      "X shape: (178, 13)\n",
      "y shape: (178,)\n",
      "Wine 1 \n",
      "  Features: [14.23, 1.71, 2.43, 15.6, 127.0, 2.8, 3.06, 0.28, 2.29, 5.64, 1.04, 3.92, 1065.0] \n",
      "  Label: 0\n",
      "Wine 2 \n",
      "  Features: [13.2, 1.78, 2.14, 11.2, 100.0, 2.65, 2.76, 0.26, 1.28, 4.38, 1.05, 3.4, 1050.0] \n",
      "  Label: 0\n",
      "Wine 3 \n",
      "  Features: [13.16, 2.36, 2.67, 18.6, 101.0, 2.8, 3.24, 0.3, 2.81, 5.68, 1.03, 3.17, 1185.0] \n",
      "  Label: 0\n",
      "Wine 4 \n",
      "  Features: [14.37, 1.95, 2.5, 16.8, 113.0, 3.85, 3.49, 0.24, 2.18, 7.8, 0.86, 3.45, 1480.0] \n",
      "  Label: 0\n"
     ]
    }
   ],
   "source": [
    "#See dimensions\n",
    "print(\"X shape: \" + str(X.shape))\n",
    "print(\"y shape: \" + str(y.shape))\n",
    "\n",
    "#See features and labels for first 4 wines\n",
    "for n in range(0, 4):\n",
    "    print(\"Wine\", str(n+1), \"\\n  Features:\",list(X[n]), \"\\n  Label:\", y[n])"
   ]
  },
  {
   "cell_type": "markdown",
   "metadata": {},
   "source": [
    "**Your task:**\n",
    "\n",
    "* Write a wine classifier and cross-validate it! Try to obtain upwards of 80% accuracy. Get creative and use any supervised learning model from the lecture, and any preprocessing steps you fancy!"
   ]
  },
  {
   "cell_type": "code",
   "execution_count": 327,
   "metadata": {},
   "outputs": [
    {
     "name": "stdout",
     "output_type": "stream",
     "text": [
      "{'fit_time': array([5.34053493, 5.08933091, 4.93411803, 4.8689959 , 5.17955995]), 'score_time': array([0.03649688, 0.030653  , 0.04087806, 0.03145194, 0.03361416]), 'test_score': array([0.52094287, 0.67857061, 0.72688571, 0.59129337, 0.67334113])}\n",
      "{'fit_time': array([0.00131583, 0.00397086, 0.00163007, 0.002496  , 0.00206804]), 'score_time': array([0.00047207, 0.00050902, 0.0003159 , 0.00039816, 0.00031877]), 'test_score': array([0.97222222, 1.        , 0.94444444, 1.        , 1.        ])}\n"
     ]
    },
    {
     "name": "stderr",
     "output_type": "stream",
     "text": [
      "/Library/Frameworks/Python.framework/Versions/3.10/lib/python3.10/site-packages/sklearn/svm/_base.py:1206: ConvergenceWarning: Liblinear failed to converge, increase the number of iterations.\n",
      "  warnings.warn(\n"
     ]
    }
   ],
   "source": [
    "from sklearn.model_selection import cross_validate\n",
    "\n",
    "maxdepth=100\n",
    "n_est = 3\n",
    "\n",
    "wine_forest = RandomForestRegressor(max_depth=maxdepth,n_estimators=n_est)\n",
    "scores_wine_forest=cross_validate(wine_forest, X,y)\n",
    "print(scores_forest)\n",
    "\n",
    "# this one worked quite well!\n",
    "wine_clf = make_pipeline(StandardScaler(), LinearSVC(C=10, loss=\"hinge\"))\n",
    "wine_clf.fit(X,y)\n",
    "pipeline = cross_validate(wine_clf, X, y)\n",
    "print(pipeline)"
   ]
  },
  {
   "cell_type": "markdown",
   "metadata": {},
   "source": [
    "**Your task:**\n",
    "\n",
    "* Use the VotingClassifier module to make a classification ensemble that uses hard voting. Add at least two more models to the ensemble alongside the one from the last task, and try to obtain a higher score in your cross-validation than you initially did with a single model."
   ]
  },
  {
   "cell_type": "code",
   "execution_count": 328,
   "metadata": {},
   "outputs": [],
   "source": [
    "from sklearn.ensemble import VotingClassifier\n",
    "\n",
    "#Your code here"
   ]
  },
  {
   "cell_type": "markdown",
   "metadata": {},
   "source": [
    "# Lesson 2: Unsupervised Machine Learning"
   ]
  },
  {
   "cell_type": "markdown",
   "metadata": {},
   "source": [
    "### Problem 1: K-means Clustering\n",
    "\n",
    "In this question we are going to have a look at K-Means clustering. Firstly we generate two sets of 2D data. We generate isotropic Gaussian blobs using make_blobs, and interleaving half circles using make_moons.\n",
    "\n",
    "**Your task:**\n",
    "\n",
    "* Build and fit a k-means models for each of the two datasets we synthesized. Use 3 clusters for the blobs, and 2 for the moons.\n",
    "* Obtain the cluster labels or predictions for each of the datasets, and plot them (preferably each cluster should correspond to a different colour or marker).\n",
    "* On which of the datasets does K-means clustering perform better? Why could this be the case?\n",
    "* Read the [sklearn documentation for K-means](https://scikit-learn.org/stable/modules/generated/sklearn.cluster.KMeans.html). Be aware that parameters like n_init, and max_iter exist."
   ]
  },
  {
   "cell_type": "code",
   "execution_count": 361,
   "metadata": {},
   "outputs": [
    {
     "name": "stdout",
     "output_type": "stream",
     "text": [
      "(100, 2)\n",
      "[1 0 0 0 2 2 2 0 1 1 0 0 2 1 2 2 2 1 0 0 2 0 2 1 0 2 2 1 1 2 1 1 2 1 0 2 0\n",
      " 0 0 2 2 0 1 0 0 2 1 1 1 1 0 2 2 2 1 2 0 0 1 1 0 2 2 0 0 2 1 2 1 0 0 0 2 1\n",
      " 1 0 2 2 1 0 1 0 0 2 1 1 1 1 0 1 2 1 1 0 0 2 2 1 2 1]\n"
     ]
    },
    {
     "data": {
      "image/png": "[encoded data removed]",
      "text/plain": [
       "<Figure size 432x288 with 1 Axes>"
      ]
     },
     "metadata": {
      "needs_background": "light"
     },
     "output_type": "display_data"
    },
    {
     "name": "stdout",
     "output_type": "stream",
     "text": [
      "[0 0 1 1 0 0 0 0 0 0 1 1 0 0 1 0 1 0 1 1 0 0 1 0 1 1 0 0 1 1 0 1 0 1 0 0 0\n",
      " 0 1 1 0 1 1 1 0 1 0 1 1 0 1 0 0 1 0 0 1 0 1 1 0 1 0 0 0 1 1 0 1 1 0 1 0 1\n",
      " 0 1 1 0 1 0 0 1 0 0 1 1 0 1 0 0 1 0 0 1 0 0 0 0 1 1 0 0 1 0 1 1 1 1 0 1 1\n",
      " 1 1 1 0 0 1 0 0 0 0 1 1 1 1 1 0 1 0 0 0 1 1 1 0 0 0 1 0 0 1 1 1 1 1 0 1 0\n",
      " 1 1 0 0 0 1 0 1 0 0 1 1 1 0 1 0 0 0 1 0 0 0 1 1 1 1 1 0 0 1 1 1 0 1 0 0 0\n",
      " 1 1 0 1 1 1 1 0 0 1 1 0 1 1 0]\n"
     ]
    },
    {
     "data": {
      "image/png": "[encoded data removed]",
      "text/plain": [
       "<Figure size 432x288 with 1 Axes>"
      ]
     },
     "metadata": {
      "needs_background": "light"
     },
     "output_type": "display_data"
    }
   ],
   "source": [
    "from sklearn.datasets import make_blobs\n",
    "from sklearn.datasets import make_moons\n",
    "from sklearn.cluster import KMeans\n",
    "import matplotlib.pyplot as plt\n",
    "\n",
    "X, y = make_blobs(random_state=1)\n",
    "X_2, y_2 = make_moons(n_samples=200, noise=0.05, random_state=0)\n",
    "\n",
    "blob_kmeans = KMeans(n_clusters=3)\n",
    "moon_kmeans = KMeans(n_clusters=2)\n",
    "blob_kmeans.fit(X)\n",
    "moon_kmeans.fit(X_2)\n",
    "\n",
    "print(X.shape)\n",
    "\n",
    "#plot blobs\n",
    "print(blob_kmeans.labels_)\n",
    "plt.scatter(X[:, 0], X[:, 1], c=blob_kmeans.labels_, s=50)\n",
    "plt.show()\n",
    "\n",
    "#plot blobs\n",
    "print(moon_kmeans.labels_)\n",
    "plt.scatter(X_2[:, 0], X_2[:, 1], c=moon_kmeans.labels_, s=50)\n",
    "plt.show()\n",
    "\n",
    "\n",
    "#Definitevly better on the first data set. The reason migth be the non-lienar pattern in the second data set\n",
    "# which cannot be picked up by the kmeans algorithm"
   ]
  },
  {
   "cell_type": "markdown",
   "metadata": {},
   "source": [
    "The next part is more of an example for your learning than a problem for you to solve.\n",
    "What if we had a dataset where we didn't know how many clusters we wanted? Let's turn out attention back to the blobs. We would use the elbow method, as follows. We run the clustering for a range of clusters k (we are using 1 to 10 for this example) and for each value, we calculate the sum of squared distances from each point to its assigned center, known as distortions. When the distortions are plotted against k, we look for the k where the line looks like a sharp “elbow” (the point of inflection on the curve). This will be our best value of k."
   ]
  },
  {
   "cell_type": "code",
   "execution_count": 362,
   "metadata": {},
   "outputs": [
    {
     "data": {
      "image/png": "[encoded data removed]",
      "text/plain": [
       "<Figure size 432x288 with 1 Axes>"
      ]
     },
     "metadata": {
      "needs_background": "light"
     },
     "output_type": "display_data"
    },
    {
     "data": {
      "image/png": "[encoded data removed]",
      "text/plain": [
       "<Figure size 1152x576 with 1 Axes>"
      ]
     },
     "metadata": {
      "needs_background": "light"
     },
     "output_type": "display_data"
    }
   ],
   "source": [
    "from sklearn.datasets import make_blobs\n",
    "from sklearn.cluster import KMeans\n",
    "import matplotlib.pyplot as plt\n",
    "\n",
    "X, y = make_blobs(random_state=5)\n",
    "plt.scatter(X[:, 0], X[:, 1], s=60)\n",
    "\n",
    "distortions = []\n",
    "K = range(1,10)\n",
    "for k in K:\n",
    "    kmeanModel = KMeans(n_clusters=k)\n",
    "    kmeanModel.fit(X)\n",
    "    distortions.append(kmeanModel.inertia_)\n",
    "    \n",
    "#Plotting the distortions of K-Means\n",
    "plt.figure(figsize=(16,8))\n",
    "plt.plot(K, distortions, 'bx-')\n",
    "plt.xlabel('k')\n",
    "plt.ylabel('Distortion')\n",
    "plt.title('The Elbow Method for finding the optimal k')\n",
    "plt.show()"
   ]
  },
  {
   "cell_type": "markdown",
   "metadata": {},
   "source": [
    "### Problem 2: Gaussian Mixture Models, Generating Data, and Embeddings\n",
    "\n",
    "We start off with a similar setup to our 2-moons dataset task in the previous problem.\n",
    "\n",
    "**Your task:**\n",
    "* Create a GaussianMixture model with 2 components and choose the adequate parameter to ensure each component has its own general covariance matrix (see the documentation for the parameter you need).\n",
    "* Fit the model to the data and predict the classes of the moon data points. Plot your predictions, did you notice any improvements over k-means?"
   ]
  },
  {
   "cell_type": "code",
   "execution_count": 367,
   "metadata": {},
   "outputs": [
    {
     "data": {
      "text/plain": [
       "<matplotlib.collections.PathCollection at 0x12d5dfb20>"
      ]
     },
     "execution_count": 367,
     "metadata": {},
     "output_type": "execute_result"
    },
    {
     "data": {
      "image/png": "[encoded data removed]",
      "text/plain": [
       "<Figure size 432x288 with 1 Axes>"
      ]
     },
     "metadata": {
      "needs_background": "light"
     },
     "output_type": "display_data"
    }
   ],
   "source": [
    "from sklearn.mixture import GaussianMixture\n",
    "from sklearn.datasets import make_moons\n",
    "\n",
    "X, y = make_moons(n_samples=200, noise=0.05, random_state=0)\n",
    "\n",
    "mixture = GaussianMixture(n_components=2, covariance_type='full', random_state=0)\n",
    "lab = mixture.fit(X).predict(X)\n",
    "plt.scatter(X[:, 0], X[:, 1], c=lab, s=40)"
   ]
  },
  {
   "cell_type": "markdown",
   "metadata": {},
   "source": [
    "At this point some of you will be wondering \"So...How can we succesfully separate the two strips of the two moons dataset?\". One technique that is often attempted for such tasks are the Spectral Embeddings we saw in class.\n",
    "\n",
    "**Your task:**\n",
    "* Recreate your GMM clustering solution in the past task of the question. However, before the GMM model, use a SpectralEmbedding with 2 components to transform the data. Feed this transformed version of the data to the GMM and plot the GMM's predictions. How does it perform now?"
   ]
  },
  {
   "cell_type": "code",
   "execution_count": 375,
   "metadata": {},
   "outputs": [
    {
     "name": "stdout",
     "output_type": "stream",
     "text": [
      "[[-0.00776798 -0.02041898]\n",
      " [ 0.02109668  0.01294123]\n",
      " [ 0.00485388 -0.01649135]\n",
      " [-0.02309663  0.02577312]\n",
      " [ 0.02249306  0.0165449 ]\n",
      " [ 0.02372612  0.01984366]\n",
      " [-0.00590866 -0.02087954]\n",
      " [ 0.01322285 -0.00620822]\n",
      " [-0.00653465 -0.02094442]\n",
      " [ 0.01560274 -0.00039048]\n",
      " [-0.0172262   0.00738497]\n",
      " [ 0.00823971 -0.01555633]\n",
      " [ 0.02313668  0.01825227]\n",
      " [ 0.01619524  0.00163778]\n",
      " [-0.02183992  0.02152906]\n",
      " [-0.00586512 -0.02087262]\n",
      " [-0.01153076 -0.01496497]\n",
      " [ 0.00929568 -0.01430149]\n",
      " [-0.01234159 -0.01273144]\n",
      " [-0.02075472  0.01796268]\n",
      " [ 0.02392401  0.02037816]\n",
      " [ 0.01312091 -0.00646801]\n",
      " [-0.01355208 -0.00841298]\n",
      " [ 0.01714829  0.00385668]\n",
      " [-0.01628311  0.00302274]\n",
      " [ 0.00761392 -0.01614715]\n",
      " [ 0.02362209  0.01956376]\n",
      " [ 0.02392401  0.02037816]\n",
      " [ 0.00744214 -0.01626319]\n",
      " [-0.01304912 -0.00769567]\n",
      " [-0.00719467 -0.02071679]\n",
      " [-0.01505864  0.00184777]\n",
      " [ 0.01405229 -0.0035442 ]\n",
      " [ 0.00528187 -0.01669025]\n",
      " [-0.00918091 -0.01898846]\n",
      " [ 0.02441584  0.0217216 ]\n",
      " [ 0.00959481 -0.01376781]\n",
      " [-0.00579062 -0.02085083]\n",
      " [-0.02241934  0.02347732]\n",
      " [ 0.00481167 -0.01647309]\n",
      " [ 0.01100147 -0.01140317]\n",
      " [-0.01753881  0.00842457]\n",
      " [-0.00989195 -0.01801199]\n",
      " [ 0.00593674 -0.01683467]\n",
      " [ 0.02055886  0.01160931]\n",
      " [-0.01717693  0.00633275]\n",
      " [-0.00582672 -0.02086371]\n",
      " [-0.02141193  0.02009847]\n",
      " [ 0.00754671 -0.01622181]\n",
      " [ 0.01312091 -0.00646801]\n",
      " [-0.02036385  0.01673665]\n",
      " [ 0.008331   -0.01540231]\n",
      " [ 0.02409366  0.02083984]\n",
      " [-0.02309945  0.02578277]\n",
      " [ 0.01500078 -0.00182238]\n",
      " [-0.00899485 -0.0191969 ]\n",
      " [-0.01113302 -0.01588262]\n",
      " [ 0.01662325  0.00209889]\n",
      " [-0.01334577 -0.00918313]\n",
      " [-0.01611176  0.00240687]\n",
      " [ 0.00929568 -0.01430149]\n",
      " [-0.02308942  0.02574734]\n",
      " [ 0.02279773  0.01735262]\n",
      " [-0.00746499 -0.02066001]\n",
      " [ 0.01530131 -0.00110216]\n",
      " [-0.02308442  0.02572992]\n",
      " [-0.01581966  0.00122963]\n",
      " [ 0.01901776  0.00784572]\n",
      " [-0.01452081 -0.00407734]\n",
      " [-0.02274065  0.02455401]\n",
      " [ 0.01182246 -0.00956455]\n",
      " [-0.02294225  0.02524263]\n",
      " [ 0.01057198 -0.01221568]\n",
      " [-0.00121502 -0.01120429]\n",
      " [ 0.01205932 -0.00778405]\n",
      " [-0.02294225  0.02524263]\n",
      " [ 0.00544285 -0.01668286]\n",
      " [-0.0068839  -0.02094532]\n",
      " [-0.01089393 -0.01635478]\n",
      " [ 0.01122818 -0.00969797]\n",
      " [ 0.02426005  0.02129394]\n",
      " [-0.01472276 -0.00219701]\n",
      " [ 0.01181779 -0.00960183]\n",
      " [ 0.02447182  0.02187663]\n",
      " [ 0.00506391 -0.01656102]\n",
      " [-0.01677064  0.0049285 ]\n",
      " [-0.00375462 -0.01949568]\n",
      " [-0.0169465   0.00547368]\n",
      " [ 0.01129339 -0.01080311]\n",
      " [ 0.02446613  0.02186074]\n",
      " [-0.01276791 -0.0112982 ]\n",
      " [-0.00640901 -0.02095169]\n",
      " [ 0.02444232  0.02179449]\n",
      " [-0.02034365  0.01668799]\n",
      " [ 0.02446613  0.02186074]\n",
      " [ 0.02328749  0.01867055]\n",
      " [ 0.02218711  0.01574914]\n",
      " [ 0.00949768 -0.01400064]\n",
      " [-0.02306594  0.02566634]\n",
      " [ 0.00593674 -0.01683467]\n",
      " [ 0.01717077  0.00335457]\n",
      " [ 0.02444643  0.02180604]\n",
      " [-0.01454734 -0.00403756]\n",
      " [-0.00092452 -0.01644906]\n",
      " [-0.02300765  0.02546668]\n",
      " [ 0.00506391 -0.01656102]\n",
      " [-0.02309684  0.02577326]\n",
      " [-0.01784503  0.00851653]\n",
      " [ 0.02034389  0.01106371]\n",
      " [-0.01342874 -0.00887096]\n",
      " [-0.0195253   0.01395612]\n",
      " [-0.01447254 -0.00426096]\n",
      " [-0.01490886 -0.00244031]\n",
      " [-0.02277817  0.02468222]\n",
      " [-0.00653465 -0.02094442]\n",
      " [ 0.01836194  0.00625453]\n",
      " [-0.00969309 -0.01828765]\n",
      " [ 0.02426005  0.02129394]\n",
      " [ 0.01129339 -0.01080311]\n",
      " [-0.00858578 -0.01965329]\n",
      " [-0.00757307 -0.02056782]\n",
      " [-0.02179357  0.02137486]\n",
      " [ 0.00481167 -0.01647309]\n",
      " [-0.01504404 -0.00197665]\n",
      " [ 0.00338021 -0.01529214]\n",
      " [-0.02141293  0.02010196]\n",
      " [-0.0036646  -0.01943116]\n",
      " [ 0.00631754 -0.0167069 ]\n",
      " [ 0.01824856  0.00596689]\n",
      " [ 0.02447381  0.02188238]\n",
      " [-0.00599957 -0.02088383]\n",
      " [-0.01946341  0.01375463]\n",
      " [-0.02281721  0.02481568]\n",
      " [ 0.00779969 -0.0159725 ]\n",
      " [ 0.01619524  0.00163778]\n",
      " [ 0.02173812  0.01458427]\n",
      " [ 0.01490071 -0.00087221]\n",
      " [-0.02306594  0.02566634]\n",
      " [ 0.02447183  0.02187701]\n",
      " [-0.00674866 -0.02085184]\n",
      " [ 0.00639593 -0.01673704]\n",
      " [ 0.00276832 -0.0150035 ]\n",
      " [-0.01215707 -0.01327312]\n",
      " [-0.01706781  0.00590986]\n",
      " [-0.01750157  0.00825808]\n",
      " [-0.00503371 -0.02021369]\n",
      " [ 0.00681208 -0.01650737]\n",
      " [ 0.01791185  0.00513946]\n",
      " [-0.01347404 -0.00871018]\n",
      " [ 0.00501781 -0.01655265]\n",
      " [ 0.01040286 -0.01252526]\n",
      " [ 0.0214611   0.01387218]\n",
      " [-0.00703867 -0.02083501]\n",
      " [-0.01234159 -0.01273144]\n",
      " [ 0.01109941 -0.01115709]\n",
      " [-0.01570876  0.00185822]\n",
      " [ 0.0171389   0.00331787]\n",
      " [ 0.00820426 -0.01556816]\n",
      " [-0.0119023  -0.01404035]\n",
      " [-0.0105236  -0.01700048]\n",
      " [ 0.00624342 -0.01672767]\n",
      " [ 0.01544793 -0.00074038]\n",
      " [-0.0112443  -0.01565251]\n",
      " [ 0.01963738  0.00936005]\n",
      " [ 0.01016087 -0.01293395]\n",
      " [ 0.02242533  0.01637087]\n",
      " [-0.0119023  -0.01404035]\n",
      " [ 0.01199534 -0.00917481]\n",
      " [ 0.02085642  0.01236327]\n",
      " [ 0.01394362 -0.00438965]\n",
      " [-0.0112443  -0.01565251]\n",
      " [-0.02309945  0.02578277]\n",
      " [-0.02260864  0.02411131]\n",
      " [-0.02236057  0.02328229]\n",
      " [ 0.00631754 -0.0167069 ]\n",
      " [ 0.01287775 -0.00520013]\n",
      " [ 0.02447182  0.02187663]\n",
      " [-0.02065772  0.01770561]\n",
      " [-0.02176138  0.02126618]\n",
      " [-0.01054302 -0.01690972]\n",
      " [ 0.01936259  0.00867131]\n",
      " [-0.02252279  0.02382529]\n",
      " [ 0.02435455  0.02155287]\n",
      " [ 0.02232087  0.01609219]\n",
      " [ 0.02443211  0.02176647]\n",
      " [-0.01289549 -0.01087061]\n",
      " [-0.01470896  0.00050346]\n",
      " [ 0.01239264 -0.0082607 ]\n",
      " [-0.02287374  0.02500846]\n",
      " [-0.01972734  0.01463366]\n",
      " [-0.02287374  0.02500846]\n",
      " [-0.01225708 -0.01298968]\n",
      " [-0.00820203 -0.02009486]\n",
      " [-0.0062335  -0.02096675]\n",
      " [ 0.00473864 -0.01642632]\n",
      " [-0.01872082  0.01140074]\n",
      " [ 0.02441584  0.0217216 ]\n",
      " [ 0.00658996 -0.01666929]\n",
      " [-0.01396397 -0.0066397 ]\n",
      " [ 0.02173812  0.01458427]]\n"
     ]
    },
    {
     "data": {
      "text/plain": [
       "<matplotlib.collections.PathCollection at 0x12da1df30>"
      ]
     },
     "execution_count": 375,
     "metadata": {},
     "output_type": "execute_result"
    },
    {
     "data": {
      "image/png": "[encoded data removed]",
      "text/plain": [
       "<Figure size 432x288 with 1 Axes>"
      ]
     },
     "metadata": {
      "needs_background": "light"
     },
     "output_type": "display_data"
    }
   ],
   "source": [
    "from sklearn.mixture import GaussianMixture\n",
    "from sklearn.datasets import make_moons\n",
    "from sklearn.manifold import SpectralEmbedding\n",
    "\n",
    "X, y = make_moons(n_samples=200, noise=0.05, random_state=0)\n",
    "\n",
    "embedding =SpectralEmbedding(n_components=2)\n",
    "transformed = embedding.fit_transform(X)\n",
    "print(transformed)\n",
    "mixture = GaussianMixture(n_components=2, covariance_type='full', random_state=0)\n",
    "lab =  mixture.fit(transformed).predict(transformed)\n",
    "plt.scatter(X[:, 0], X[:, 1], c=lab, s=40)"
   ]
  },
  {
   "cell_type": "markdown",
   "metadata": {},
   "source": [
    "What are the added bonuses of using a GMM, then? While they do often perform better on more complex-shaped clustering situations than k-means, GMMs are technically not clustering models, but rather probability-based density estimation models. They have the ability to describe the way in which data is distributed, and generate it.\n",
    "\n",
    "**Your task:**\n",
    "* Say you want to model the dataset distribution and generate your own moon shapes similar to the data we fitted.\n",
    "* Firstly, Create another GMM and fit it to the data, this time make it have 16 components. Using 16 Gaussians allows us to model the overall distribution of the input data, rather than finding clusters.\n",
    "* Secondly, Use the 'sample' method from the GMM to generate 200 data points.\n",
    "* Plot these points, what do they look like?"
   ]
  },
  {
   "cell_type": "code",
   "execution_count": 408,
   "metadata": {},
   "outputs": [
    {
     "name": "stdout",
     "output_type": "stream",
     "text": [
      "(200, 2)\n",
      "(200,)\n"
     ]
    },
    {
     "ename": "IndexError",
     "evalue": "too many indices for array: array is 1-dimensional, but 2 were indexed",
     "output_type": "error",
     "traceback": [
      "\u001b[0;31m---------------------------------------------------------------------------\u001b[0m",
      "\u001b[0;31mIndexError\u001b[0m                                Traceback (most recent call last)",
      "\u001b[1;32m/Users/jobayer/Dropbox/My Mac (170529-G-APD-PV)/Documents/GitHub/exercises-ML/week_2/Week2 Problems.ipynb Cell 26'\u001b[0m in \u001b[0;36m<cell line: 6>\u001b[0;34m()\u001b[0m\n\u001b[1;32m      <a href='vscode-notebook-cell:/Users/jobayer/Dropbox/My%20Mac%20%28170529-G-APD-PV%29/Documents/GitHub/exercises-ML/week_2/Week2%20Problems.ipynb#ch0000025?line=3'>4</a>\u001b[0m \u001b[39mprint\u001b[39m(samples_x\u001b[39m.\u001b[39mshape)\n\u001b[1;32m      <a href='vscode-notebook-cell:/Users/jobayer/Dropbox/My%20Mac%20%28170529-G-APD-PV%29/Documents/GitHub/exercises-ML/week_2/Week2%20Problems.ipynb#ch0000025?line=4'>5</a>\u001b[0m \u001b[39mprint\u001b[39m(samples_y\u001b[39m.\u001b[39mshape)\n\u001b[0;32m----> <a href='vscode-notebook-cell:/Users/jobayer/Dropbox/My%20Mac%20%28170529-G-APD-PV%29/Documents/GitHub/exercises-ML/week_2/Week2%20Problems.ipynb#ch0000025?line=5'>6</a>\u001b[0m plt\u001b[39m.\u001b[39mscatter(samples_x[:, \u001b[39m0\u001b[39m], samples_y[:, \u001b[39m0\u001b[39;49m], s\u001b[39m=\u001b[39m\u001b[39m40\u001b[39m)\n",
      "\u001b[0;31mIndexError\u001b[0m: too many indices for array: array is 1-dimensional, but 2 were indexed"
     ]
    }
   ],
   "source": [
    "mixture = GaussianMixture(n_components=16, covariance_type='full', random_state=0)\n",
    "gamm= mixture.fit(X)\n",
    "samples_x, samples_y= gamm.sample(n_samples=200)\n",
    "print(samples_x.shape)\n",
    "print(samples_y.shape)\n",
    "plt.scatter(samples_x[:, 0], samples_y[:, 0], s=40)"
   ]
  },
  {
   "cell_type": "markdown",
   "metadata": {},
   "source": [
    "# Problem 3: Applying these concepts to Neuroscience"
   ]
  },
  {
   "cell_type": "markdown",
   "metadata": {},
   "source": [
    "This final problem has the goal of showing you how the discussed unsupervised learning techniques can be applied to real neuroimaging data. We have provided a MatLab (.mat) file containing a single diffusion connectome (in a few different atlases) acquired using a parcellation that has hemispheric separation of nodes.\n",
    "[This paper](https://www.pnas.org/content/116/13/5995) found that  left/right hemisphere community separation can be achieved with unsupervised learning methods. We will implement a simplified version of this pipeline.\n",
    "\n",
    "**Your task:**\n",
    "* Use a Spectral Embedding to transform the connectivity data. Use 2 components for visualization purposes.\n",
    "* Using a relevant unsupervised learning technique from the lecture, perform clustering on the transformed data. Make a plot to visualize your model's predictions.\n",
    "* OPTIONAL: If anybody wants to read the paper and try implementing more of their details into your code and see how it affects the results...We'd be curious to hear how it went!\n",
    "\n",
    "It *should* split by hemisphere, but due to the simplifications it could instead split functionally (i.e. Yeo groups) depending on how coarse the parameters want the clusters to be."
   ]
  },
  {
   "cell_type": "code",
   "execution_count": 414,
   "metadata": {},
   "outputs": [
    {
     "name": "stdout",
     "output_type": "stream",
     "text": [
      "(116, 116)\n",
      "(116, 2)\n"
     ]
    },
    {
     "data": {
      "text/plain": [
       "<matplotlib.collections.PathCollection at 0x12ccc3250>"
      ]
     },
     "execution_count": 414,
     "metadata": {},
     "output_type": "execute_result"
    },
    {
     "data": {
      "image/png": "[encoded data removed]",
      "text/plain": [
       "<Figure size 432x288 with 1 Axes>"
      ]
     },
     "metadata": {
      "needs_background": "light"
     },
     "output_type": "display_data"
    }
   ],
   "source": [
    "import scipy.io\n",
    "import numpy as np\n",
    "\n",
    "#Read in the connectome MAT file\n",
    "mat = scipy.io.loadmat('acq-64dir_space-T1w_desc-preproc_space-T1w_msmtconnectome.mat')\n",
    "\n",
    "#Obtain the streamline count weighted by both SIFT and inverse node volumes\n",
    "#Using AAL coz it is anatomically defined, as opposed to functionally defined like most other atlases in the file.\n",
    "connectivity = mat[\"aal116_sift_invnodevol_radius2_count_connectivity\"]\n",
    "\n",
    "con = np.asarray(connectivity)\n",
    "print(con.shape)\n",
    "\n",
    "embedding = SpectralEmbedding(n_components=2)\n",
    "transformed = embedding.fit_transform(con)\n",
    "print(transformed.shape)\n",
    "\n",
    "gamm = GaussianMixture(n_components=2, covariance_type='full', random_state=0)\n",
    "scores = gamm.fit(transformed).predict(transformed)\n",
    "plt.scatter(transformed[:, 0], transformed[:, 1], c=scores, s=40)\n",
    "\n",
    "kmeans = KMeans(n_clusters=2)\n",
    "scores = kmeans.fit(transformed).predict(transformed)\n",
    "plt.scatter(transformed[:, 0], transformed[:, 1], c=scores, s=40)\n",
    "\n"
   ]
  }
 ],
 "metadata": {
  "kernelspec": {
   "display_name": "Python 3",
   "language": "python",
   "name": "python3"
  },
  "language_info": {
   "codemirror_mode": {
    "name": "ipython",
    "version": 3
   },
   "file_extension": ".py",
   "mimetype": "text/x-python",
   "name": "python",
   "nbconvert_exporter": "python",
   "pygments_lexer": "ipython3",
   "version": "3.10.0"
  }
 },
 "nbformat": 4,
 "nbformat_minor": 4
}
